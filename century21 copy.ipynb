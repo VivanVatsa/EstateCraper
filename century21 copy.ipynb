{
 "metadata": {
  "language_info": {
   "codemirror_mode": {
    "name": "ipython",
    "version": 3
   },
   "file_extension": ".py",
   "mimetype": "text/x-python",
   "name": "python",
   "nbconvert_exporter": "python",
   "pygments_lexer": "ipython3",
   "version": "3.9.0-final"
  },
  "orig_nbformat": 2,
  "kernelspec": {
   "name": "Python 3.9.0 32-bit",
   "display_name": "Python 3.9.0 32-bit",
   "metadata": {
    "interpreter": {
     "hash": "966554753b7ad300c761fe504d2a0047967422be04d495bf5b98858861ffa539"
    }
   }
  }
 },
 "nbformat": 4,
 "nbformat_minor": 2,
 "cells": [
  {
   "cell_type": "code",
   "execution_count": 28,
   "metadata": {},
   "outputs": [],
   "source": [
    "import requests\n",
    "from bs4 import BeautifulSoup"
   ]
  },
  {
   "cell_type": "code",
   "execution_count": 29,
   "metadata": {},
   "outputs": [],
   "source": [
    "# r=requests.get(\"https://www.century21.com/real-estate/san-francisco-ca/LCCASANFRANCISCO/\")\n",
    "\n",
    "r=requests.get(\"https://www.century21.com/real-estate/rock-springs-wy/LCWYROCKSPRINGS/\")\n",
    "c=r.content"
   ]
  },
  {
   "cell_type": "code",
   "execution_count": 30,
   "metadata": {
    "tags": []
   },
   "outputs": [],
   "source": [
    "soup=BeautifulSoup(c,\"html.parser\")\n",
    "# print(soup.prettify())"
   ]
  },
  {
   "cell_type": "code",
   "execution_count": 31,
   "metadata": {},
   "outputs": [],
   "source": [
    "all=soup.find_all(\"div\", {\"class\":\"logo\"})  "
   ]
  },
  {
   "cell_type": "code",
   "execution_count": 32,
   "metadata": {},
   "outputs": [
    {
     "output_type": "execute_result",
     "data": {
      "text/plain": [
       "[<div class=\"logo\"><a data-usagetrack-click=\"Logo\" href=\"/\">Home</a></div>]"
      ]
     },
     "metadata": {},
     "execution_count": 32
    }
   ],
   "source": [
    "all"
   ]
  },
  {
   "cell_type": "code",
   "execution_count": 33,
   "metadata": {},
   "outputs": [],
   "source": [
    "all=soup.find_all(\"div\", {\"class\":\"filters-container\"})"
   ]
  },
  {
   "cell_type": "code",
   "execution_count": 34,
   "metadata": {},
   "outputs": [
    {
     "output_type": "execute_result",
     "data": {
      "text/plain": [
       "[]"
      ]
     },
     "metadata": {},
     "execution_count": 34
    }
   ],
   "source": [
    "all"
   ]
  },
  {
   "cell_type": "code",
   "execution_count": 35,
   "metadata": {},
   "outputs": [],
   "source": [
    "all=soup.find_all(\"div\", {\"class\":\"full-width-container\"})  "
   ]
  },
  {
   "cell_type": "code",
   "execution_count": 36,
   "metadata": {},
   "outputs": [
    {
     "output_type": "execute_result",
     "data": {
      "text/plain": [
       "[]"
      ]
     },
     "metadata": {},
     "execution_count": 36
    }
   ],
   "source": [
    "all"
   ]
  },
  {
   "cell_type": "code",
   "execution_count": 37,
   "metadata": {},
   "outputs": [],
   "source": [
    "all=soup.find_all(\"div\", {\"class\":\"property-actions\"}) "
   ]
  },
  {
   "cell_type": "code",
   "execution_count": 38,
   "metadata": {},
   "outputs": [
    {
     "output_type": "execute_result",
     "data": {
      "text/plain": [
       "[<div class=\"property-actions\">\n",
       " <button class=\"action-favorite\" title=\"Set as Favorite\" type=\"button\"></button>\n",
       " </div>,\n",
       " <div class=\"property-actions\">\n",
       " <button class=\"action-favorite\" title=\"Set as Favorite\" type=\"button\"></button>\n",
       " </div>,\n",
       " <div class=\"property-actions\">\n",
       " <button class=\"action-favorite\" title=\"Set as Favorite\" type=\"button\"></button>\n",
       " </div>,\n",
       " <div class=\"property-actions\">\n",
       " <button class=\"action-favorite\" title=\"Set as Favorite\" type=\"button\"></button>\n",
       " </div>,\n",
       " <div class=\"property-actions\">\n",
       " <button class=\"action-favorite\" title=\"Set as Favorite\" type=\"button\"></button>\n",
       " </div>,\n",
       " <div class=\"property-actions\">\n",
       " <button class=\"action-favorite\" title=\"Set as Favorite\" type=\"button\"></button>\n",
       " </div>,\n",
       " <div class=\"property-actions\">\n",
       " <button class=\"action-contact\" data-usagetrack='{\"data\": [\"Hybrid Mapping\", \"Property Card\", \"Contact\"]}' title=\"Contact\" type=\"button\"></button>\n",
       " <button class=\"action-favorite\" title=\"Set as Favorite\" type=\"button\"></button>\n",
       " </div>,\n",
       " <div class=\"property-actions\">\n",
       " <button class=\"action-favorite\" title=\"Set as Favorite\" type=\"button\"></button>\n",
       " </div>,\n",
       " <div class=\"property-actions\">\n",
       " <button class=\"action-favorite\" title=\"Set as Favorite\" type=\"button\"></button>\n",
       " </div>]"
      ]
     },
     "metadata": {},
     "execution_count": 38
    }
   ],
   "source": [
    "all"
   ]
  },
  {
   "cell_type": "code",
   "execution_count": 39,
   "metadata": {},
   "outputs": [
    {
     "output_type": "execute_result",
     "data": {
      "text/plain": [
       "bs4.element.ResultSet"
      ]
     },
     "metadata": {},
     "execution_count": 39
    }
   ],
   "source": [
    "type(all)"
   ]
  },
  {
   "cell_type": "code",
   "execution_count": 40,
   "metadata": {},
   "outputs": [
    {
     "output_type": "execute_result",
     "data": {
      "text/plain": [
       "9"
      ]
     },
     "metadata": {},
     "execution_count": 40
    }
   ],
   "source": [
    "len(all)"
   ]
  },
  {
   "cell_type": "code",
   "execution_count": 41,
   "metadata": {},
   "outputs": [
    {
     "output_type": "execute_result",
     "data": {
      "text/plain": [
       "<div class=\"property-actions\">\n",
       "<button class=\"action-favorite\" title=\"Set as Favorite\" type=\"button\"></button>\n",
       "</div>"
      ]
     },
     "metadata": {},
     "execution_count": 41
    }
   ],
   "source": [
    "all[0]"
   ]
  },
  {
   "cell_type": "code",
   "execution_count": 42,
   "metadata": {},
   "outputs": [],
   "source": [
    "all1=soup.find_all(\"div\", {\"class\":\"infinite-container\"})"
   ]
  },
  {
   "cell_type": "code",
   "execution_count": 43,
   "metadata": {},
   "outputs": [
    {
     "output_type": "stream",
     "name": "stdout",
     "text": [
      "\n\n \n\n<\n1\n26\n>\n\n\n\n\nFOR SALE\n\n         \n            \n               $507,900\n            \n            \n         \n      \n\n\n6 beds\n         \n\n3 baths\n         \n\n\n\n1 half bath\n         \n\n\n\n               2431 Port Orford Lane\n            \n\n            Rock Springs WY 82901\n         \n\n\n               Courtesy Of Coldwell Banker Sweetwater Realty\n            \n         \n\n\n\n\n\n\n \n\n<\n1\n19\n>\n\n\n\n\nFOR SALE\n\n         \n            \n               $210,000\n            \n            \n         \n      \n\n\n2 beds\n         \n\n2 baths\n         \n\n\n\n\n\n               333 I Street\n            \n\n            Rock Springs WY 82901\n         \n\n\n               Courtesy Of Coldwell Banker Sweetwater Realty\n            \n         \n\n\n\n\n\n\n \n\n<\n1\n9\n>\n\n\n\n\nFOR SALE\n\n         \n            \n               $135,000\n            \n            \n         \n      \n\n\n2 beds\n         \n\n1 bath\n         \n\n\n\n\n\n               121 1St St\n            \n\n            Rock Springs WY 82901\n         \n\n\n               Courtesy Of Coldwell Banker Sweetwater Realty\n            \n         \n\n\n\n\n\n\n \n\n<\n1\n22\n>\n\n\n\n\nFOR SALE\n\n         \n            \n               $169,000\n            \n            \n         \n      \n\n\n3 beds\n         \n\n1 bath\n         \n\n\n\n1,410 sq. ft\n         \n\n\n\n               930 Lincoln Ave\n            \n\n            Rock Springs WY 82901\n         \n\n\n               Courtesy Of Coldwell Banker Sweetwater Realty\n            \n         \n\n\n\n\n\n\n \n\n<\n1\n20\n>\n\n\n\n\nFOR SALE\n\n         \n            \n               $135,000\n            \n            \n         \n      \n\n\n2 beds\n         \n\n1 bath\n         \n\n\n\n\n\n               821 Rugby\n            \n\n            Rock Springs WY 82901\n         \n\n\n               Courtesy Of Coldwell Banker Sweetwater Realty\n            \n         \n\n\n\n\n\n\n \n\n<\n1\n11\n>\n\n\n\n\nFOR SALE\n\n         \n            \n               $178,000\n            \n            \n         \n      \n\n\n3 beds\n         \n\n2 baths\n         \n\n\n\n1 half bath\n         \n\n\n\n               2421 Little Moon Trail\n            \n\n            Rock Springs WY 82901\n         \n\n\n               Courtesy Of Coldwell Banker Sweetwater Realty\n            \n         \n\n\n\n\n\n\n \n\n<\n1\n14\n>\n\n\n\n\nFOR SALE\n\n         \n            \n               $114,900\n            \n            \n         \n      \n\n\n2 beds\n         \n\n1 bath\n         \n\n\n\n868 sq. ft\n         \n\n\n\n               322 Angle Street\n            \n\n            Rock Springs WY 82901\n         \n\n\n               Courtesy Of AAA Properties, LLC\n            \n         \n\n\n\n\n\n\n\n \n\n<\n1\n14\n>\n\n\n\n\nFOR SALE\n\n         \n            \n               $185,000\n            \n            \n         \n      \n\n\n3 beds\n         \n\n2 baths\n         \n\n\n\n1 half bath\n         \n\n1,778 sq. ft\n         \n\n\n\n               817 Blue Sage Way\n            \n\n            Rock Springs WY 82901\n         \n\n\n               Courtesy Of Coldwell Banker Sweetwater Realty\n            \n         \n\n\n\n\n\n\n \n\n<\n1\n154\n>\n\n\n\n\nFOR SALE\n\n         \n            \n               $990,999\n            \n            \n         \n      \n\n\n4 beds\n         \n\n5 baths\n         \n\n\n\n2 half baths\n         \n\n10,300 sq. ft\n         \n\n\n\n               1129 Hilltop Drive\n            \n\n            Rock Springs WY 82901\n         \n\n\n               Courtesy Of Coldwell Banker Sweetwater Realty\n            \n         \n\n\n\n\n\n\n"
     ]
    }
   ],
   "source": [
    "# all1\n",
    "all1=soup.find(\"div\", {\"class\":\"infinite-container\"})\n",
    "print(all1.text)"
   ]
  },
  {
   "cell_type": "code",
   "execution_count": 44,
   "metadata": {},
   "outputs": [
    {
     "output_type": "error",
     "ename": "KeyError",
     "evalue": "0",
     "traceback": [
      "\u001b[1;31m---------------------------------------------------------------------------\u001b[0m",
      "\u001b[1;31mKeyError\u001b[0m                                  Traceback (most recent call last)",
      "\u001b[1;32m<ipython-input-44-cbc334112571>\u001b[0m in \u001b[0;36m<module>\u001b[1;34m\u001b[0m\n\u001b[0;32m      1\u001b[0m \u001b[1;31m# all1[0].find_all(\"a\", {\"class\":\"listing-price\"})\u001b[0m\u001b[1;33m\u001b[0m\u001b[1;33m\u001b[0m\u001b[1;33m\u001b[0m\u001b[0m\n\u001b[0;32m      2\u001b[0m \u001b[1;31m# for item in range(0,10):\u001b[0m\u001b[1;33m\u001b[0m\u001b[1;33m\u001b[0m\u001b[1;33m\u001b[0m\u001b[0m\n\u001b[1;32m----> 3\u001b[1;33m \u001b[0mall1\u001b[0m\u001b[1;33m[\u001b[0m\u001b[1;36m0\u001b[0m\u001b[1;33m]\u001b[0m\u001b[1;33m.\u001b[0m\u001b[0mfind_all\u001b[0m\u001b[1;33m(\u001b[0m\u001b[1;34m\"a\"\u001b[0m\u001b[1;33m,\u001b[0m \u001b[1;33m{\u001b[0m\u001b[1;34m\"class\"\u001b[0m\u001b[1;33m:\u001b[0m\u001b[1;34m\"listing-prices\"\u001b[0m\u001b[1;33m}\u001b[0m\u001b[1;33m)\u001b[0m\u001b[1;33m\u001b[0m\u001b[1;33m\u001b[0m\u001b[0m\n\u001b[0m",
      "\u001b[1;32m~\\AppData\\Local\\Programs\\Python\\Python39\\lib\\site-packages\\bs4\\element.py\u001b[0m in \u001b[0;36m__getitem__\u001b[1;34m(self, key)\u001b[0m\n\u001b[0;32m   1404\u001b[0m         \"\"\"tag[key] returns the value of the 'key' attribute for the Tag,\n\u001b[0;32m   1405\u001b[0m         and throws an exception if it's not there.\"\"\"\n\u001b[1;32m-> 1406\u001b[1;33m         \u001b[1;32mreturn\u001b[0m \u001b[0mself\u001b[0m\u001b[1;33m.\u001b[0m\u001b[0mattrs\u001b[0m\u001b[1;33m[\u001b[0m\u001b[0mkey\u001b[0m\u001b[1;33m]\u001b[0m\u001b[1;33m\u001b[0m\u001b[1;33m\u001b[0m\u001b[0m\n\u001b[0m\u001b[0;32m   1407\u001b[0m \u001b[1;33m\u001b[0m\u001b[0m\n\u001b[0;32m   1408\u001b[0m     \u001b[1;32mdef\u001b[0m \u001b[0m__iter__\u001b[0m\u001b[1;33m(\u001b[0m\u001b[0mself\u001b[0m\u001b[1;33m)\u001b[0m\u001b[1;33m:\u001b[0m\u001b[1;33m\u001b[0m\u001b[1;33m\u001b[0m\u001b[0m\n",
      "\u001b[1;31mKeyError\u001b[0m: 0"
     ]
    }
   ],
   "source": [
    "# all1[0].find_all(\"a\", {\"class\":\"listing-price\"})\n",
    "# for item in range(0,10):\n",
    "all1[0].find_all(\"a\", {\"class\":\"listing-prices\"})"
   ]
  },
  {
   "cell_type": "code",
   "execution_count": 18,
   "metadata": {},
   "outputs": [
    {
     "output_type": "error",
     "ename": "KeyError",
     "evalue": "0",
     "traceback": [
      "\u001b[1;31m---------------------------------------------------------------------------\u001b[0m",
      "\u001b[1;31mKeyError\u001b[0m                                  Traceback (most recent call last)",
      "\u001b[1;32m<ipython-input-18-8d8da8a65a87>\u001b[0m in \u001b[0;36m<module>\u001b[1;34m\u001b[0m\n\u001b[1;32m----> 1\u001b[1;33m \u001b[0mall1\u001b[0m\u001b[1;33m[\u001b[0m\u001b[1;36m0\u001b[0m\u001b[1;33m]\u001b[0m\u001b[1;33m.\u001b[0m\u001b[0mfind\u001b[0m\u001b[1;33m(\u001b[0m\u001b[1;34m\"a\"\u001b[0m\u001b[1;33m,\u001b[0m \u001b[1;33m{\u001b[0m\u001b[1;34m\"class\"\u001b[0m\u001b[1;33m:\u001b[0m\u001b[1;34m\"listing-price\"\u001b[0m\u001b[1;33m}\u001b[0m\u001b[1;33m)\u001b[0m\u001b[1;33m.\u001b[0m\u001b[0mtext\u001b[0m\u001b[1;33m\u001b[0m\u001b[1;33m\u001b[0m\u001b[0m\n\u001b[0m",
      "\u001b[1;32m~\\AppData\\Local\\Programs\\Python\\Python39\\lib\\site-packages\\bs4\\element.py\u001b[0m in \u001b[0;36m__getitem__\u001b[1;34m(self, key)\u001b[0m\n\u001b[0;32m   1404\u001b[0m         \"\"\"tag[key] returns the value of the 'key' attribute for the Tag,\n\u001b[0;32m   1405\u001b[0m         and throws an exception if it's not there.\"\"\"\n\u001b[1;32m-> 1406\u001b[1;33m         \u001b[1;32mreturn\u001b[0m \u001b[0mself\u001b[0m\u001b[1;33m.\u001b[0m\u001b[0mattrs\u001b[0m\u001b[1;33m[\u001b[0m\u001b[0mkey\u001b[0m\u001b[1;33m]\u001b[0m\u001b[1;33m\u001b[0m\u001b[1;33m\u001b[0m\u001b[0m\n\u001b[0m\u001b[0;32m   1407\u001b[0m \u001b[1;33m\u001b[0m\u001b[0m\n\u001b[0;32m   1408\u001b[0m     \u001b[1;32mdef\u001b[0m \u001b[0m__iter__\u001b[0m\u001b[1;33m(\u001b[0m\u001b[0mself\u001b[0m\u001b[1;33m)\u001b[0m\u001b[1;33m:\u001b[0m\u001b[1;33m\u001b[0m\u001b[1;33m\u001b[0m\u001b[0m\n",
      "\u001b[1;31mKeyError\u001b[0m: 0"
     ]
    }
   ],
   "source": [
    "all1[0].find(\"a\", {\"class\":\"listing-price\"}).text"
   ]
  },
  {
   "cell_type": "code",
   "execution_count": 78,
   "metadata": {},
   "outputs": [
    {
     "output_type": "execute_result",
     "data": {
      "text/plain": [
       "str"
      ]
     },
     "metadata": {},
     "execution_count": 78
    }
   ],
   "source": [
    "type(all1[0].find(\"a\", {\"class\":\"listing-price\"}).text)"
   ]
  },
  {
   "cell_type": "code",
   "execution_count": 79,
   "metadata": {},
   "outputs": [
    {
     "output_type": "execute_result",
     "data": {
      "text/plain": [
       "'                                    $507,900                                       '"
      ]
     },
     "metadata": {},
     "execution_count": 79
    }
   ],
   "source": [
    "all1[0].find(\"a\", {\"class\":\"listing-price\"}).text.replace(\"\\n\", \"\")"
   ]
  },
  {
   "cell_type": "code",
   "execution_count": 47,
   "metadata": {},
   "outputs": [
    {
     "output_type": "error",
     "ename": "KeyError",
     "evalue": "0",
     "traceback": [
      "\u001b[1;31m---------------------------------------------------------------------------\u001b[0m",
      "\u001b[1;31mKeyError\u001b[0m                                  Traceback (most recent call last)",
      "\u001b[1;32m<ipython-input-47-88c3f1072d7c>\u001b[0m in \u001b[0;36m<module>\u001b[1;34m\u001b[0m\n\u001b[0;32m      1\u001b[0m \u001b[1;31m# all1[0].find(\"a\", {\"class\":\"listing-price\"}).text.replace(\"\\n\", \"\").replace(\" \", \"\")\u001b[0m\u001b[1;33m\u001b[0m\u001b[1;33m\u001b[0m\u001b[1;33m\u001b[0m\u001b[0m\n\u001b[0;32m      2\u001b[0m \u001b[1;33m\u001b[0m\u001b[0m\n\u001b[1;32m----> 3\u001b[1;33m \u001b[0mall1\u001b[0m\u001b[1;33m[\u001b[0m\u001b[1;36m0\u001b[0m\u001b[1;33m]\u001b[0m\u001b[1;33m.\u001b[0m\u001b[0mfind\u001b[0m\u001b[1;33m(\u001b[0m\u001b[1;34m\"a\"\u001b[0m\u001b[1;33m,\u001b[0m \u001b[1;33m{\u001b[0m\u001b[1;34m\"class\"\u001b[0m\u001b[1;33m:\u001b[0m\u001b[1;34m\"listing-price\"\u001b[0m\u001b[1;33m}\u001b[0m\u001b[1;33m)\u001b[0m\u001b[1;33m.\u001b[0m\u001b[0mtext\u001b[0m\u001b[1;33m.\u001b[0m\u001b[0mreplace\u001b[0m\u001b[1;33m(\u001b[0m\u001b[1;34m\"\\n\"\u001b[0m\u001b[1;33m,\u001b[0m \u001b[1;34m\"\"\u001b[0m\u001b[1;33m)\u001b[0m\u001b[1;33m.\u001b[0m\u001b[0mreplace\u001b[0m\u001b[1;33m(\u001b[0m\u001b[1;34m\" \"\u001b[0m\u001b[1;33m,\u001b[0m \u001b[1;34m\"\"\u001b[0m\u001b[1;33m)\u001b[0m\u001b[1;33m\u001b[0m\u001b[1;33m\u001b[0m\u001b[0m\n\u001b[0m",
      "\u001b[1;32m~\\AppData\\Local\\Programs\\Python\\Python39\\lib\\site-packages\\bs4\\element.py\u001b[0m in \u001b[0;36m__getitem__\u001b[1;34m(self, key)\u001b[0m\n\u001b[0;32m   1404\u001b[0m         \"\"\"tag[key] returns the value of the 'key' attribute for the Tag,\n\u001b[0;32m   1405\u001b[0m         and throws an exception if it's not there.\"\"\"\n\u001b[1;32m-> 1406\u001b[1;33m         \u001b[1;32mreturn\u001b[0m \u001b[0mself\u001b[0m\u001b[1;33m.\u001b[0m\u001b[0mattrs\u001b[0m\u001b[1;33m[\u001b[0m\u001b[0mkey\u001b[0m\u001b[1;33m]\u001b[0m\u001b[1;33m\u001b[0m\u001b[1;33m\u001b[0m\u001b[0m\n\u001b[0m\u001b[0;32m   1407\u001b[0m \u001b[1;33m\u001b[0m\u001b[0m\n\u001b[0;32m   1408\u001b[0m     \u001b[1;32mdef\u001b[0m \u001b[0m__iter__\u001b[0m\u001b[1;33m(\u001b[0m\u001b[0mself\u001b[0m\u001b[1;33m)\u001b[0m\u001b[1;33m:\u001b[0m\u001b[1;33m\u001b[0m\u001b[1;33m\u001b[0m\u001b[0m\n",
      "\u001b[1;31mKeyError\u001b[0m: 0"
     ]
    }
   ],
   "source": [
    "# all1[0].find(\"a\", {\"class\":\"listing-price\"}).text.replace(\"\\n\", \"\").replace(\" \", \"\")\n",
    "\n",
    "all1[0].find(\"a\", {\"class\":\"listing-price\"}).text.replace(\"\\n\", \"\").replace(\" \", \"\")\n"
   ]
  },
  {
   "cell_type": "code",
   "execution_count": 81,
   "metadata": {},
   "outputs": [
    {
     "output_type": "execute_result",
     "data": {
      "text/plain": [
       "[<div class=\"infinite-container\">\n",
       " <div class=\"infinite-item property-card clearfix property-card-CBR51568476\" data-brand-cd=\"CBR\" data-id=\"CBR51568476\" data-latitude=\"41.591922\" data-link=\"/property/2431-port-orford-lane-rock-springs-wy-82901-CBR51568476\" data-listing-id=\"\" data-longitude=\"-109.258179\" data-mls=\"20204968\" data-source-id=\"6B01A322-A511-48E0-92D8-E418EAB51764\" data-zip=\"82901\">\n",
       " <div class=\"property-card-clip\"> <div class=\"property-card-image\" style=\"background-image: url(https://cb.azureedge.net/1103i82/0rmww7yyzef2m9yc08awqxanc2i82);\">\n",
       " <div class=\"property-image-count\">\n",
       " <div class=\"image-count-left\">&lt;</div>\n",
       " <div class=\"image-count-current\">1</div>\n",
       " <div class=\"image-count-total\">26</div>\n",
       " <div class=\"image-count-right\">&gt;</div>\n",
       " </div>\n",
       " </div>\n",
       " </div>\n",
       " <div class=\"property-card-primary-info\">\n",
       " <div class=\"pdp-listing-type sale\">FOR SALE</div>\n",
       " <a class=\"listing-price\" href=\"/property/2431-port-orford-lane-rock-springs-wy-82901-CBR51568476\">\n",
       "          \n",
       "             \n",
       "                $507,900\n",
       "             \n",
       "             \n",
       "          \n",
       "       </a>\n",
       " <div class=\"col-wrap-mid\">\n",
       " <div class=\"property-beds\">\n",
       " <strong>6</strong> beds\n",
       "          </div>\n",
       " <div class=\"property-baths\">\n",
       " <strong>3</strong> baths\n",
       "          </div>\n",
       " </div>\n",
       " <div class=\"col-wrap-last\">\n",
       " <div class=\"property-half-baths\">\n",
       " <strong>1</strong> half bath\n",
       "          </div>\n",
       " </div>\n",
       " <div class=\"property-address-info\">\n",
       " <div class=\"property-address\" title=\"2431 Port Orford Lane\">\n",
       "                2431 Port Orford Lane\n",
       "             </div>\n",
       " <div class=\"property-city\">\n",
       "             Rock Springs WY 82901\n",
       "          </div>\n",
       " </div>\n",
       " <div class=\"property-card-attribution\">\n",
       "                Courtesy Of Coldwell Banker Sweetwater Realty\n",
       "             \n",
       "          </div>\n",
       " </div>\n",
       " <div class=\"property-actions\">\n",
       " <button class=\"action-favorite\" title=\"Set as Favorite\" type=\"button\"></button>\n",
       " </div>\n",
       " </div>\n",
       " <div class=\"infinite-item property-card clearfix property-card-CBR51522052\" data-brand-cd=\"CBR\" data-id=\"CBR51522052\" data-latitude=\"41.58670867\" data-link=\"/property/333-i-street-rock-springs-wy-82901-CBR51522052\" data-listing-id=\"\" data-longitude=\"-109.21090967\" data-mls=\"20204264\" data-source-id=\"6CAC1AAF-1312-427E-9DE4-D87F89E9C307\" data-zip=\"82901\">\n",
       " <div class=\"property-card-clip\"> <div class=\"property-card-image\" style=\"background-image: url(https://cb.azureedge.net/1103i82/rebkj9bcyr4e4ptrkdehsyv9s0i82);\">\n",
       " <div class=\"property-image-count\">\n",
       " <div class=\"image-count-left\">&lt;</div>\n",
       " <div class=\"image-count-current\">1</div>\n",
       " <div class=\"image-count-total\">19</div>\n",
       " <div class=\"image-count-right\">&gt;</div>\n",
       " </div>\n",
       " </div>\n",
       " </div>\n",
       " <div class=\"property-card-primary-info\">\n",
       " <div class=\"pdp-listing-type sale\">FOR SALE</div>\n",
       " <a class=\"listing-price\" href=\"/property/333-i-street-rock-springs-wy-82901-CBR51522052\">\n",
       "          \n",
       "             \n",
       "                $210,000\n",
       "             \n",
       "             \n",
       "          \n",
       "       </a>\n",
       " <div class=\"col-wrap-mid\">\n",
       " <div class=\"property-beds\">\n",
       " <strong>2</strong> beds\n",
       "          </div>\n",
       " <div class=\"property-baths\">\n",
       " <strong>2</strong> baths\n",
       "          </div>\n",
       " </div>\n",
       " <div class=\"col-wrap-last\">\n",
       " </div>\n",
       " <div class=\"property-address-info\">\n",
       " <div class=\"property-address\" title=\"333 I Street\">\n",
       "                333 I Street\n",
       "             </div>\n",
       " <div class=\"property-city\">\n",
       "             Rock Springs WY 82901\n",
       "          </div>\n",
       " </div>\n",
       " <div class=\"property-card-attribution\">\n",
       "                Courtesy Of Coldwell Banker Sweetwater Realty\n",
       "             \n",
       "          </div>\n",
       " </div>\n",
       " <div class=\"property-actions\">\n",
       " <button class=\"action-favorite\" title=\"Set as Favorite\" type=\"button\"></button>\n",
       " </div>\n",
       " </div>\n",
       " <div class=\"infinite-item property-card clearfix property-card-CBR51525993\" data-brand-cd=\"CBR\" data-id=\"CBR51525993\" data-latitude=\"41.583604\" data-link=\"/property/121-1st-st-rock-springs-wy-82901-CBR51525993\" data-listing-id=\"\" data-longitude=\"-109.220696\" data-mls=\"20204235\" data-source-id=\"9FE08AE3-18A2-4079-B8A5-1D6A29420D55\" data-zip=\"82901\">\n",
       " <div class=\"property-card-clip\"> <div class=\"property-card-image\" style=\"background-image: url(https://cb.azureedge.net/1103i82/vbvb6ejwawskmj280w146cje27i82);\">\n",
       " <div class=\"property-image-count\">\n",
       " <div class=\"image-count-left\">&lt;</div>\n",
       " <div class=\"image-count-current\">1</div>\n",
       " <div class=\"image-count-total\">9</div>\n",
       " <div class=\"image-count-right\">&gt;</div>\n",
       " </div>\n",
       " </div>\n",
       " </div>\n",
       " <div class=\"property-card-primary-info\">\n",
       " <div class=\"pdp-listing-type sale\">FOR SALE</div>\n",
       " <a class=\"listing-price\" href=\"/property/121-1st-st-rock-springs-wy-82901-CBR51525993\">\n",
       "          \n",
       "             \n",
       "                $135,000\n",
       "             \n",
       "             \n",
       "          \n",
       "       </a>\n",
       " <div class=\"col-wrap-mid\">\n",
       " <div class=\"property-beds\">\n",
       " <strong>2</strong> beds\n",
       "          </div>\n",
       " <div class=\"property-baths\">\n",
       " <strong>1</strong> bath\n",
       "          </div>\n",
       " </div>\n",
       " <div class=\"col-wrap-last\">\n",
       " </div>\n",
       " <div class=\"property-address-info\">\n",
       " <div class=\"property-address\" title=\"121 1St St\">\n",
       "                121 1St St\n",
       "             </div>\n",
       " <div class=\"property-city\">\n",
       "             Rock Springs WY 82901\n",
       "          </div>\n",
       " </div>\n",
       " <div class=\"property-card-attribution\">\n",
       "                Courtesy Of Coldwell Banker Sweetwater Realty\n",
       "             \n",
       "          </div>\n",
       " </div>\n",
       " <div class=\"property-actions\">\n",
       " <button class=\"action-favorite\" title=\"Set as Favorite\" type=\"button\"></button>\n",
       " </div>\n",
       " </div>\n",
       " <div class=\"infinite-item property-card clearfix property-card-CBR51518874\" data-brand-cd=\"CBR\" data-id=\"CBR51518874\" data-latitude=\"41.57847\" data-link=\"/property/930-lincoln-ave-rock-springs-wy-82901-CBR51518874\" data-listing-id=\"\" data-longitude=\"-109.21073\" data-mls=\"20204025\" data-source-id=\"E48F2EFE-80E7-46ED-A4CC-66B7B107A586\" data-zip=\"82901\">\n",
       " <div class=\"property-card-clip\"> <div class=\"property-card-image\" style=\"background-image: url(https://cb.azureedge.net/1103i82/khas9rd42w5m432wtja3djc3v4i82);\">\n",
       " <div class=\"property-image-count\">\n",
       " <div class=\"image-count-left\">&lt;</div>\n",
       " <div class=\"image-count-current\">1</div>\n",
       " <div class=\"image-count-total\">22</div>\n",
       " <div class=\"image-count-right\">&gt;</div>\n",
       " </div>\n",
       " </div>\n",
       " </div>\n",
       " <div class=\"property-card-primary-info\">\n",
       " <div class=\"pdp-listing-type sale\">FOR SALE</div>\n",
       " <a class=\"listing-price\" href=\"/property/930-lincoln-ave-rock-springs-wy-82901-CBR51518874\">\n",
       "          \n",
       "             \n",
       "                $169,000\n",
       "             \n",
       "             \n",
       "          \n",
       "       </a>\n",
       " <div class=\"col-wrap-mid\">\n",
       " <div class=\"property-beds\">\n",
       " <strong>3</strong> beds\n",
       "          </div>\n",
       " <div class=\"property-baths\">\n",
       " <strong>1</strong> bath\n",
       "          </div>\n",
       " </div>\n",
       " <div class=\"col-wrap-last\">\n",
       " <div class=\"property-sqft\">\n",
       " <strong>1,410</strong> sq. ft\n",
       "          </div>\n",
       " </div>\n",
       " <div class=\"property-address-info\">\n",
       " <div class=\"property-address\" title=\"930 Lincoln Ave\">\n",
       "                930 Lincoln Ave\n",
       "             </div>\n",
       " <div class=\"property-city\">\n",
       "             Rock Springs WY 82901\n",
       "          </div>\n",
       " </div>\n",
       " <div class=\"property-card-attribution\">\n",
       "                Courtesy Of Coldwell Banker Sweetwater Realty\n",
       "             \n",
       "          </div>\n",
       " </div>\n",
       " <div class=\"property-actions\">\n",
       " <button class=\"action-favorite\" title=\"Set as Favorite\" type=\"button\"></button>\n",
       " </div>\n",
       " </div>\n",
       " <div class=\"infinite-item property-card clearfix property-card-CBR51460565\" data-brand-cd=\"CBR\" data-id=\"CBR51460565\" data-latitude=\"41.594985\" data-link=\"/property/821-rugby-rock-springs-wy-82901-CBR51460565\" data-listing-id=\"\" data-longitude=\"-109.218981\" data-mls=\"20203277\" data-source-id=\"FA43CC5E-C74C-4930-B094-12814012D74A\" data-zip=\"82901\">\n",
       " <div class=\"property-card-clip\"> <div class=\"property-card-image\" style=\"background-image: url(https://cb.azureedge.net/1103i82/5f72mc5b9gw5mxj1182370g1q6i82);\">\n",
       " <div class=\"property-image-count\">\n",
       " <div class=\"image-count-left\">&lt;</div>\n",
       " <div class=\"image-count-current\">1</div>\n",
       " <div class=\"image-count-total\">20</div>\n",
       " <div class=\"image-count-right\">&gt;</div>\n",
       " </div>\n",
       " </div>\n",
       " </div>\n",
       " <div class=\"property-card-primary-info\">\n",
       " <div class=\"pdp-listing-type sale\">FOR SALE</div>\n",
       " <a class=\"listing-price\" href=\"/property/821-rugby-rock-springs-wy-82901-CBR51460565\">\n",
       "          \n",
       "             \n",
       "                $135,000\n",
       "             \n",
       "             \n",
       "          \n",
       "       </a>\n",
       " <div class=\"col-wrap-mid\">\n",
       " <div class=\"property-beds\">\n",
       " <strong>2</strong> beds\n",
       "          </div>\n",
       " <div class=\"property-baths\">\n",
       " <strong>1</strong> bath\n",
       "          </div>\n",
       " </div>\n",
       " <div class=\"col-wrap-last\">\n",
       " </div>\n",
       " <div class=\"property-address-info\">\n",
       " <div class=\"property-address\" title=\"821 Rugby\">\n",
       "                821 Rugby\n",
       "             </div>\n",
       " <div class=\"property-city\">\n",
       "             Rock Springs WY 82901\n",
       "          </div>\n",
       " </div>\n",
       " <div class=\"property-card-attribution\">\n",
       "                Courtesy Of Coldwell Banker Sweetwater Realty\n",
       "             \n",
       "          </div>\n",
       " </div>\n",
       " <div class=\"property-actions\">\n",
       " <button class=\"action-favorite\" title=\"Set as Favorite\" type=\"button\"></button>\n",
       " </div>\n",
       " </div>\n",
       " <div class=\"infinite-item property-card clearfix property-card-CBR51459683\" data-brand-cd=\"CBR\" data-id=\"CBR51459683\" data-latitude=\"41.58127\" data-link=\"/property/2421-little-moon-trail-rock-springs-wy-82901-CBR51459683\" data-listing-id=\"\" data-longitude=\"-109.26963\" data-mls=\"20203124\" data-source-id=\"62DF3CC2-DEE8-4311-A974-DDF1374FDEC1\" data-zip=\"82901\">\n",
       " <div class=\"property-card-clip\"> <div class=\"property-card-image\" style=\"background-image: url(https://cb.azureedge.net/1103i82/5n7tp787e1dwmna10fc07qmqd4i82);\">\n",
       " <div class=\"property-image-count\">\n",
       " <div class=\"image-count-left\">&lt;</div>\n",
       " <div class=\"image-count-current\">1</div>\n",
       " <div class=\"image-count-total\">11</div>\n",
       " <div class=\"image-count-right\">&gt;</div>\n",
       " </div>\n",
       " </div>\n",
       " </div>\n",
       " <div class=\"property-card-primary-info\">\n",
       " <div class=\"pdp-listing-type sale\">FOR SALE</div>\n",
       " <a class=\"listing-price\" href=\"/property/2421-little-moon-trail-rock-springs-wy-82901-CBR51459683\">\n",
       "          \n",
       "             \n",
       "                $178,000\n",
       "             \n",
       "             \n",
       "          \n",
       "       </a>\n",
       " <div class=\"col-wrap-mid\">\n",
       " <div class=\"property-beds\">\n",
       " <strong>3</strong> beds\n",
       "          </div>\n",
       " <div class=\"property-baths\">\n",
       " <strong>2</strong> baths\n",
       "          </div>\n",
       " </div>\n",
       " <div class=\"col-wrap-last\">\n",
       " <div class=\"property-half-baths\">\n",
       " <strong>1</strong> half bath\n",
       "          </div>\n",
       " </div>\n",
       " <div class=\"property-address-info\">\n",
       " <div class=\"property-address\" title=\"2421 Little Moon Trail\">\n",
       "                2421 Little Moon Trail\n",
       "             </div>\n",
       " <div class=\"property-city\">\n",
       "             Rock Springs WY 82901\n",
       "          </div>\n",
       " </div>\n",
       " <div class=\"property-card-attribution\">\n",
       "                Courtesy Of Coldwell Banker Sweetwater Realty\n",
       "             \n",
       "          </div>\n",
       " </div>\n",
       " <div class=\"property-actions\">\n",
       " <button class=\"action-favorite\" title=\"Set as Favorite\" type=\"button\"></button>\n",
       " </div>\n",
       " </div>\n",
       " <div class=\"infinite-item property-card clearfix property-card-REN012014894\" data-brand-cd=\"REN\" data-id=\"REN012014894\" data-latitude=\"41.5862\" data-link=\"/property/322-angle-street-rock-springs-wy-82901-REN012014894\" data-listing-id=\"\" data-longitude=\"-109.209\" data-mls=\"20202562\" data-source-id=\"3yd-CMLSWY-20202562\" data-zip=\"82901\">\n",
       " <div class=\"property-card-clip\"> <div class=\"property-card-image\" style=\"background-image: url(https://www.century21.com/listhub/photo/maxxmax/photos.listhub.net/CMLSWY/20202562/1?lm=20200629T222617);\">\n",
       " <div class=\"property-image-count\">\n",
       " <div class=\"image-count-left\">&lt;</div>\n",
       " <div class=\"image-count-current\">1</div>\n",
       " <div class=\"image-count-total\">14</div>\n",
       " <div class=\"image-count-right\">&gt;</div>\n",
       " </div>\n",
       " </div>\n",
       " </div>\n",
       " <div class=\"property-card-primary-info\">\n",
       " <div class=\"pdp-listing-type sale\">FOR SALE</div>\n",
       " <a class=\"listing-price\" href=\"/property/322-angle-street-rock-springs-wy-82901-REN012014894\">\n",
       "          \n",
       "             \n",
       "                $114,900\n",
       "             \n",
       "             \n",
       "          \n",
       "       </a>\n",
       " <div class=\"col-wrap-mid\">\n",
       " <div class=\"property-beds\">\n",
       " <strong>2</strong> beds\n",
       "          </div>\n",
       " <div class=\"property-baths\">\n",
       " <strong>1</strong> bath\n",
       "          </div>\n",
       " </div>\n",
       " <div class=\"col-wrap-last\">\n",
       " <div class=\"property-sqft\">\n",
       " <strong>868</strong> sq. ft\n",
       "          </div>\n",
       " </div>\n",
       " <div class=\"property-address-info\">\n",
       " <div class=\"property-address\" title=\"322 Angle Street\">\n",
       "                322 Angle Street\n",
       "             </div>\n",
       " <div class=\"property-city\">\n",
       "             Rock Springs WY 82901\n",
       "          </div>\n",
       " </div>\n",
       " <div class=\"property-card-attribution\">\n",
       "                Courtesy Of AAA Properties, LLC\n",
       "             \n",
       "          </div>\n",
       " </div>\n",
       " <div class=\"property-actions\">\n",
       " <button class=\"action-contact\" data-usagetrack='{\"data\": [\"Hybrid Mapping\", \"Property Card\", \"Contact\"]}' title=\"Contact\" type=\"button\"></button>\n",
       " <button class=\"action-favorite\" title=\"Set as Favorite\" type=\"button\"></button>\n",
       " </div>\n",
       " </div>\n",
       " <div class=\"infinite-item property-card clearfix property-card-CBR51392879\" data-brand-cd=\"CBR\" data-id=\"CBR51392879\" data-latitude=\"41.590004\" data-link=\"/property/817-blue-sage-way-rock-springs-wy-82901-CBR51392879\" data-listing-id=\"\" data-longitude=\"-109.247818\" data-mls=\"20202279\" data-source-id=\"495D60CC-F090-4278-BA03-37329E9A5FBC\" data-zip=\"82901\">\n",
       " <div class=\"property-card-clip\"> <div class=\"property-card-image\" style=\"background-image: url(https://cb.azureedge.net/1103i82/a1yw7hg4e6rgmf2td8m3g9vfy7i82);\">\n",
       " <div class=\"property-image-count\">\n",
       " <div class=\"image-count-left\">&lt;</div>\n",
       " <div class=\"image-count-current\">1</div>\n",
       " <div class=\"image-count-total\">14</div>\n",
       " <div class=\"image-count-right\">&gt;</div>\n",
       " </div>\n",
       " </div>\n",
       " </div>\n",
       " <div class=\"property-card-primary-info\">\n",
       " <div class=\"pdp-listing-type sale\">FOR SALE</div>\n",
       " <a class=\"listing-price\" href=\"/property/817-blue-sage-way-rock-springs-wy-82901-CBR51392879\">\n",
       "          \n",
       "             \n",
       "                $185,000\n",
       "             \n",
       "             \n",
       "          \n",
       "       </a>\n",
       " <div class=\"col-wrap-mid\">\n",
       " <div class=\"property-beds\">\n",
       " <strong>3</strong> beds\n",
       "          </div>\n",
       " <div class=\"property-baths\">\n",
       " <strong>2</strong> baths\n",
       "          </div>\n",
       " </div>\n",
       " <div class=\"col-wrap-last\">\n",
       " <div class=\"property-half-baths\">\n",
       " <strong>1</strong> half bath\n",
       "          </div>\n",
       " <div class=\"property-sqft\">\n",
       " <strong>1,778</strong> sq. ft\n",
       "          </div>\n",
       " </div>\n",
       " <div class=\"property-address-info\">\n",
       " <div class=\"property-address\" title=\"817 Blue Sage Way\">\n",
       "                817 Blue Sage Way\n",
       "             </div>\n",
       " <div class=\"property-city\">\n",
       "             Rock Springs WY 82901\n",
       "          </div>\n",
       " </div>\n",
       " <div class=\"property-card-attribution\">\n",
       "                Courtesy Of Coldwell Banker Sweetwater Realty\n",
       "             \n",
       "          </div>\n",
       " </div>\n",
       " <div class=\"property-actions\">\n",
       " <button class=\"action-favorite\" title=\"Set as Favorite\" type=\"button\"></button>\n",
       " </div>\n",
       " </div>\n",
       " <div class=\"infinite-item property-card clearfix property-card-CBR51198370\" data-brand-cd=\"CBR\" data-id=\"CBR51198370\" data-latitude=\"41.58332783\" data-link=\"/property/1129-hilltop-drive-rock-springs-wy-82901-CBR51198370\" data-listing-id=\"\" data-longitude=\"-109.232217\" data-mls=\"20196545\" data-source-id=\"864DC9E7-6247-4783-911D-24A0D9824CAF\" data-zip=\"82901\">\n",
       " <div class=\"property-card-clip\"> <div class=\"property-card-image\" style=\"background-image: url(https://cb.azureedge.net/1103i82/vdr85fzkafqhmka922jxtxa135i82);\">\n",
       " <div class=\"property-image-count\">\n",
       " <div class=\"image-count-left\">&lt;</div>\n",
       " <div class=\"image-count-current\">1</div>\n",
       " <div class=\"image-count-total\">154</div>\n",
       " <div class=\"image-count-right\">&gt;</div>\n",
       " </div>\n",
       " </div>\n",
       " </div>\n",
       " <div class=\"property-card-primary-info\">\n",
       " <div class=\"pdp-listing-type sale\">FOR SALE</div>\n",
       " <a class=\"listing-price\" href=\"/property/1129-hilltop-drive-rock-springs-wy-82901-CBR51198370\">\n",
       "          \n",
       "             \n",
       "                $990,999\n",
       "             \n",
       "             \n",
       "          \n",
       "       </a>\n",
       " <div class=\"col-wrap-mid\">\n",
       " <div class=\"property-beds\">\n",
       " <strong>4</strong> beds\n",
       "          </div>\n",
       " <div class=\"property-baths\">\n",
       " <strong>5</strong> baths\n",
       "          </div>\n",
       " </div>\n",
       " <div class=\"col-wrap-last\">\n",
       " <div class=\"property-half-baths\">\n",
       " <strong>2</strong> half baths\n",
       "          </div>\n",
       " <div class=\"property-sqft\">\n",
       " <strong>10,300</strong> sq. ft\n",
       "          </div>\n",
       " </div>\n",
       " <div class=\"property-address-info\">\n",
       " <div class=\"property-address\" title=\"1129 Hilltop Drive\">\n",
       "                1129 Hilltop Drive\n",
       "             </div>\n",
       " <div class=\"property-city\">\n",
       "             Rock Springs WY 82901\n",
       "          </div>\n",
       " </div>\n",
       " <div class=\"property-card-attribution\">\n",
       "                Courtesy Of Coldwell Banker Sweetwater Realty\n",
       "             \n",
       "          </div>\n",
       " </div>\n",
       " <div class=\"property-actions\">\n",
       " <button class=\"action-favorite\" title=\"Set as Favorite\" type=\"button\"></button>\n",
       " </div>\n",
       " </div>\n",
       " </div>]"
      ]
     },
     "metadata": {},
     "execution_count": 81
    }
   ],
   "source": [
    "all1"
   ]
  },
  {
   "cell_type": "code",
   "execution_count": 82,
   "metadata": {},
   "outputs": [
    {
     "output_type": "execute_result",
     "data": {
      "text/plain": [
       "[<div class=\"infinite-container\">\n",
       " <div class=\"infinite-item property-card clearfix property-card-CBR51568476\" data-brand-cd=\"CBR\" data-id=\"CBR51568476\" data-latitude=\"41.591922\" data-link=\"/property/2431-port-orford-lane-rock-springs-wy-82901-CBR51568476\" data-listing-id=\"\" data-longitude=\"-109.258179\" data-mls=\"20204968\" data-source-id=\"6B01A322-A511-48E0-92D8-E418EAB51764\" data-zip=\"82901\">\n",
       " <div class=\"property-card-clip\"> <div class=\"property-card-image\" style=\"background-image: url(https://cb.azureedge.net/1103i82/0rmww7yyzef2m9yc08awqxanc2i82);\">\n",
       " <div class=\"property-image-count\">\n",
       " <div class=\"image-count-left\">&lt;</div>\n",
       " <div class=\"image-count-current\">1</div>\n",
       " <div class=\"image-count-total\">26</div>\n",
       " <div class=\"image-count-right\">&gt;</div>\n",
       " </div>\n",
       " </div>\n",
       " </div>\n",
       " <div class=\"property-card-primary-info\">\n",
       " <div class=\"pdp-listing-type sale\">FOR SALE</div>\n",
       " <a class=\"listing-price\" href=\"/property/2431-port-orford-lane-rock-springs-wy-82901-CBR51568476\">\n",
       "          \n",
       "             \n",
       "                $507,900\n",
       "             \n",
       "             \n",
       "          \n",
       "       </a>\n",
       " <div class=\"col-wrap-mid\">\n",
       " <div class=\"property-beds\">\n",
       " <strong>6</strong> beds\n",
       "          </div>\n",
       " <div class=\"property-baths\">\n",
       " <strong>3</strong> baths\n",
       "          </div>\n",
       " </div>\n",
       " <div class=\"col-wrap-last\">\n",
       " <div class=\"property-half-baths\">\n",
       " <strong>1</strong> half bath\n",
       "          </div>\n",
       " </div>\n",
       " <div class=\"property-address-info\">\n",
       " <div class=\"property-address\" title=\"2431 Port Orford Lane\">\n",
       "                2431 Port Orford Lane\n",
       "             </div>\n",
       " <div class=\"property-city\">\n",
       "             Rock Springs WY 82901\n",
       "          </div>\n",
       " </div>\n",
       " <div class=\"property-card-attribution\">\n",
       "                Courtesy Of Coldwell Banker Sweetwater Realty\n",
       "             \n",
       "          </div>\n",
       " </div>\n",
       " <div class=\"property-actions\">\n",
       " <button class=\"action-favorite\" title=\"Set as Favorite\" type=\"button\"></button>\n",
       " </div>\n",
       " </div>\n",
       " <div class=\"infinite-item property-card clearfix property-card-CBR51522052\" data-brand-cd=\"CBR\" data-id=\"CBR51522052\" data-latitude=\"41.58670867\" data-link=\"/property/333-i-street-rock-springs-wy-82901-CBR51522052\" data-listing-id=\"\" data-longitude=\"-109.21090967\" data-mls=\"20204264\" data-source-id=\"6CAC1AAF-1312-427E-9DE4-D87F89E9C307\" data-zip=\"82901\">\n",
       " <div class=\"property-card-clip\"> <div class=\"property-card-image\" style=\"background-image: url(https://cb.azureedge.net/1103i82/rebkj9bcyr4e4ptrkdehsyv9s0i82);\">\n",
       " <div class=\"property-image-count\">\n",
       " <div class=\"image-count-left\">&lt;</div>\n",
       " <div class=\"image-count-current\">1</div>\n",
       " <div class=\"image-count-total\">19</div>\n",
       " <div class=\"image-count-right\">&gt;</div>\n",
       " </div>\n",
       " </div>\n",
       " </div>\n",
       " <div class=\"property-card-primary-info\">\n",
       " <div class=\"pdp-listing-type sale\">FOR SALE</div>\n",
       " <a class=\"listing-price\" href=\"/property/333-i-street-rock-springs-wy-82901-CBR51522052\">\n",
       "          \n",
       "             \n",
       "                $210,000\n",
       "             \n",
       "             \n",
       "          \n",
       "       </a>\n",
       " <div class=\"col-wrap-mid\">\n",
       " <div class=\"property-beds\">\n",
       " <strong>2</strong> beds\n",
       "          </div>\n",
       " <div class=\"property-baths\">\n",
       " <strong>2</strong> baths\n",
       "          </div>\n",
       " </div>\n",
       " <div class=\"col-wrap-last\">\n",
       " </div>\n",
       " <div class=\"property-address-info\">\n",
       " <div class=\"property-address\" title=\"333 I Street\">\n",
       "                333 I Street\n",
       "             </div>\n",
       " <div class=\"property-city\">\n",
       "             Rock Springs WY 82901\n",
       "          </div>\n",
       " </div>\n",
       " <div class=\"property-card-attribution\">\n",
       "                Courtesy Of Coldwell Banker Sweetwater Realty\n",
       "             \n",
       "          </div>\n",
       " </div>\n",
       " <div class=\"property-actions\">\n",
       " <button class=\"action-favorite\" title=\"Set as Favorite\" type=\"button\"></button>\n",
       " </div>\n",
       " </div>\n",
       " <div class=\"infinite-item property-card clearfix property-card-CBR51525993\" data-brand-cd=\"CBR\" data-id=\"CBR51525993\" data-latitude=\"41.583604\" data-link=\"/property/121-1st-st-rock-springs-wy-82901-CBR51525993\" data-listing-id=\"\" data-longitude=\"-109.220696\" data-mls=\"20204235\" data-source-id=\"9FE08AE3-18A2-4079-B8A5-1D6A29420D55\" data-zip=\"82901\">\n",
       " <div class=\"property-card-clip\"> <div class=\"property-card-image\" style=\"background-image: url(https://cb.azureedge.net/1103i82/vbvb6ejwawskmj280w146cje27i82);\">\n",
       " <div class=\"property-image-count\">\n",
       " <div class=\"image-count-left\">&lt;</div>\n",
       " <div class=\"image-count-current\">1</div>\n",
       " <div class=\"image-count-total\">9</div>\n",
       " <div class=\"image-count-right\">&gt;</div>\n",
       " </div>\n",
       " </div>\n",
       " </div>\n",
       " <div class=\"property-card-primary-info\">\n",
       " <div class=\"pdp-listing-type sale\">FOR SALE</div>\n",
       " <a class=\"listing-price\" href=\"/property/121-1st-st-rock-springs-wy-82901-CBR51525993\">\n",
       "          \n",
       "             \n",
       "                $135,000\n",
       "             \n",
       "             \n",
       "          \n",
       "       </a>\n",
       " <div class=\"col-wrap-mid\">\n",
       " <div class=\"property-beds\">\n",
       " <strong>2</strong> beds\n",
       "          </div>\n",
       " <div class=\"property-baths\">\n",
       " <strong>1</strong> bath\n",
       "          </div>\n",
       " </div>\n",
       " <div class=\"col-wrap-last\">\n",
       " </div>\n",
       " <div class=\"property-address-info\">\n",
       " <div class=\"property-address\" title=\"121 1St St\">\n",
       "                121 1St St\n",
       "             </div>\n",
       " <div class=\"property-city\">\n",
       "             Rock Springs WY 82901\n",
       "          </div>\n",
       " </div>\n",
       " <div class=\"property-card-attribution\">\n",
       "                Courtesy Of Coldwell Banker Sweetwater Realty\n",
       "             \n",
       "          </div>\n",
       " </div>\n",
       " <div class=\"property-actions\">\n",
       " <button class=\"action-favorite\" title=\"Set as Favorite\" type=\"button\"></button>\n",
       " </div>\n",
       " </div>\n",
       " <div class=\"infinite-item property-card clearfix property-card-CBR51518874\" data-brand-cd=\"CBR\" data-id=\"CBR51518874\" data-latitude=\"41.57847\" data-link=\"/property/930-lincoln-ave-rock-springs-wy-82901-CBR51518874\" data-listing-id=\"\" data-longitude=\"-109.21073\" data-mls=\"20204025\" data-source-id=\"E48F2EFE-80E7-46ED-A4CC-66B7B107A586\" data-zip=\"82901\">\n",
       " <div class=\"property-card-clip\"> <div class=\"property-card-image\" style=\"background-image: url(https://cb.azureedge.net/1103i82/khas9rd42w5m432wtja3djc3v4i82);\">\n",
       " <div class=\"property-image-count\">\n",
       " <div class=\"image-count-left\">&lt;</div>\n",
       " <div class=\"image-count-current\">1</div>\n",
       " <div class=\"image-count-total\">22</div>\n",
       " <div class=\"image-count-right\">&gt;</div>\n",
       " </div>\n",
       " </div>\n",
       " </div>\n",
       " <div class=\"property-card-primary-info\">\n",
       " <div class=\"pdp-listing-type sale\">FOR SALE</div>\n",
       " <a class=\"listing-price\" href=\"/property/930-lincoln-ave-rock-springs-wy-82901-CBR51518874\">\n",
       "          \n",
       "             \n",
       "                $169,000\n",
       "             \n",
       "             \n",
       "          \n",
       "       </a>\n",
       " <div class=\"col-wrap-mid\">\n",
       " <div class=\"property-beds\">\n",
       " <strong>3</strong> beds\n",
       "          </div>\n",
       " <div class=\"property-baths\">\n",
       " <strong>1</strong> bath\n",
       "          </div>\n",
       " </div>\n",
       " <div class=\"col-wrap-last\">\n",
       " <div class=\"property-sqft\">\n",
       " <strong>1,410</strong> sq. ft\n",
       "          </div>\n",
       " </div>\n",
       " <div class=\"property-address-info\">\n",
       " <div class=\"property-address\" title=\"930 Lincoln Ave\">\n",
       "                930 Lincoln Ave\n",
       "             </div>\n",
       " <div class=\"property-city\">\n",
       "             Rock Springs WY 82901\n",
       "          </div>\n",
       " </div>\n",
       " <div class=\"property-card-attribution\">\n",
       "                Courtesy Of Coldwell Banker Sweetwater Realty\n",
       "             \n",
       "          </div>\n",
       " </div>\n",
       " <div class=\"property-actions\">\n",
       " <button class=\"action-favorite\" title=\"Set as Favorite\" type=\"button\"></button>\n",
       " </div>\n",
       " </div>\n",
       " <div class=\"infinite-item property-card clearfix property-card-CBR51460565\" data-brand-cd=\"CBR\" data-id=\"CBR51460565\" data-latitude=\"41.594985\" data-link=\"/property/821-rugby-rock-springs-wy-82901-CBR51460565\" data-listing-id=\"\" data-longitude=\"-109.218981\" data-mls=\"20203277\" data-source-id=\"FA43CC5E-C74C-4930-B094-12814012D74A\" data-zip=\"82901\">\n",
       " <div class=\"property-card-clip\"> <div class=\"property-card-image\" style=\"background-image: url(https://cb.azureedge.net/1103i82/5f72mc5b9gw5mxj1182370g1q6i82);\">\n",
       " <div class=\"property-image-count\">\n",
       " <div class=\"image-count-left\">&lt;</div>\n",
       " <div class=\"image-count-current\">1</div>\n",
       " <div class=\"image-count-total\">20</div>\n",
       " <div class=\"image-count-right\">&gt;</div>\n",
       " </div>\n",
       " </div>\n",
       " </div>\n",
       " <div class=\"property-card-primary-info\">\n",
       " <div class=\"pdp-listing-type sale\">FOR SALE</div>\n",
       " <a class=\"listing-price\" href=\"/property/821-rugby-rock-springs-wy-82901-CBR51460565\">\n",
       "          \n",
       "             \n",
       "                $135,000\n",
       "             \n",
       "             \n",
       "          \n",
       "       </a>\n",
       " <div class=\"col-wrap-mid\">\n",
       " <div class=\"property-beds\">\n",
       " <strong>2</strong> beds\n",
       "          </div>\n",
       " <div class=\"property-baths\">\n",
       " <strong>1</strong> bath\n",
       "          </div>\n",
       " </div>\n",
       " <div class=\"col-wrap-last\">\n",
       " </div>\n",
       " <div class=\"property-address-info\">\n",
       " <div class=\"property-address\" title=\"821 Rugby\">\n",
       "                821 Rugby\n",
       "             </div>\n",
       " <div class=\"property-city\">\n",
       "             Rock Springs WY 82901\n",
       "          </div>\n",
       " </div>\n",
       " <div class=\"property-card-attribution\">\n",
       "                Courtesy Of Coldwell Banker Sweetwater Realty\n",
       "             \n",
       "          </div>\n",
       " </div>\n",
       " <div class=\"property-actions\">\n",
       " <button class=\"action-favorite\" title=\"Set as Favorite\" type=\"button\"></button>\n",
       " </div>\n",
       " </div>\n",
       " <div class=\"infinite-item property-card clearfix property-card-CBR51459683\" data-brand-cd=\"CBR\" data-id=\"CBR51459683\" data-latitude=\"41.58127\" data-link=\"/property/2421-little-moon-trail-rock-springs-wy-82901-CBR51459683\" data-listing-id=\"\" data-longitude=\"-109.26963\" data-mls=\"20203124\" data-source-id=\"62DF3CC2-DEE8-4311-A974-DDF1374FDEC1\" data-zip=\"82901\">\n",
       " <div class=\"property-card-clip\"> <div class=\"property-card-image\" style=\"background-image: url(https://cb.azureedge.net/1103i82/5n7tp787e1dwmna10fc07qmqd4i82);\">\n",
       " <div class=\"property-image-count\">\n",
       " <div class=\"image-count-left\">&lt;</div>\n",
       " <div class=\"image-count-current\">1</div>\n",
       " <div class=\"image-count-total\">11</div>\n",
       " <div class=\"image-count-right\">&gt;</div>\n",
       " </div>\n",
       " </div>\n",
       " </div>\n",
       " <div class=\"property-card-primary-info\">\n",
       " <div class=\"pdp-listing-type sale\">FOR SALE</div>\n",
       " <a class=\"listing-price\" href=\"/property/2421-little-moon-trail-rock-springs-wy-82901-CBR51459683\">\n",
       "          \n",
       "             \n",
       "                $178,000\n",
       "             \n",
       "             \n",
       "          \n",
       "       </a>\n",
       " <div class=\"col-wrap-mid\">\n",
       " <div class=\"property-beds\">\n",
       " <strong>3</strong> beds\n",
       "          </div>\n",
       " <div class=\"property-baths\">\n",
       " <strong>2</strong> baths\n",
       "          </div>\n",
       " </div>\n",
       " <div class=\"col-wrap-last\">\n",
       " <div class=\"property-half-baths\">\n",
       " <strong>1</strong> half bath\n",
       "          </div>\n",
       " </div>\n",
       " <div class=\"property-address-info\">\n",
       " <div class=\"property-address\" title=\"2421 Little Moon Trail\">\n",
       "                2421 Little Moon Trail\n",
       "             </div>\n",
       " <div class=\"property-city\">\n",
       "             Rock Springs WY 82901\n",
       "          </div>\n",
       " </div>\n",
       " <div class=\"property-card-attribution\">\n",
       "                Courtesy Of Coldwell Banker Sweetwater Realty\n",
       "             \n",
       "          </div>\n",
       " </div>\n",
       " <div class=\"property-actions\">\n",
       " <button class=\"action-favorite\" title=\"Set as Favorite\" type=\"button\"></button>\n",
       " </div>\n",
       " </div>\n",
       " <div class=\"infinite-item property-card clearfix property-card-REN012014894\" data-brand-cd=\"REN\" data-id=\"REN012014894\" data-latitude=\"41.5862\" data-link=\"/property/322-angle-street-rock-springs-wy-82901-REN012014894\" data-listing-id=\"\" data-longitude=\"-109.209\" data-mls=\"20202562\" data-source-id=\"3yd-CMLSWY-20202562\" data-zip=\"82901\">\n",
       " <div class=\"property-card-clip\"> <div class=\"property-card-image\" style=\"background-image: url(https://www.century21.com/listhub/photo/maxxmax/photos.listhub.net/CMLSWY/20202562/1?lm=20200629T222617);\">\n",
       " <div class=\"property-image-count\">\n",
       " <div class=\"image-count-left\">&lt;</div>\n",
       " <div class=\"image-count-current\">1</div>\n",
       " <div class=\"image-count-total\">14</div>\n",
       " <div class=\"image-count-right\">&gt;</div>\n",
       " </div>\n",
       " </div>\n",
       " </div>\n",
       " <div class=\"property-card-primary-info\">\n",
       " <div class=\"pdp-listing-type sale\">FOR SALE</div>\n",
       " <a class=\"listing-price\" href=\"/property/322-angle-street-rock-springs-wy-82901-REN012014894\">\n",
       "          \n",
       "             \n",
       "                $114,900\n",
       "             \n",
       "             \n",
       "          \n",
       "       </a>\n",
       " <div class=\"col-wrap-mid\">\n",
       " <div class=\"property-beds\">\n",
       " <strong>2</strong> beds\n",
       "          </div>\n",
       " <div class=\"property-baths\">\n",
       " <strong>1</strong> bath\n",
       "          </div>\n",
       " </div>\n",
       " <div class=\"col-wrap-last\">\n",
       " <div class=\"property-sqft\">\n",
       " <strong>868</strong> sq. ft\n",
       "          </div>\n",
       " </div>\n",
       " <div class=\"property-address-info\">\n",
       " <div class=\"property-address\" title=\"322 Angle Street\">\n",
       "                322 Angle Street\n",
       "             </div>\n",
       " <div class=\"property-city\">\n",
       "             Rock Springs WY 82901\n",
       "          </div>\n",
       " </div>\n",
       " <div class=\"property-card-attribution\">\n",
       "                Courtesy Of AAA Properties, LLC\n",
       "             \n",
       "          </div>\n",
       " </div>\n",
       " <div class=\"property-actions\">\n",
       " <button class=\"action-contact\" data-usagetrack='{\"data\": [\"Hybrid Mapping\", \"Property Card\", \"Contact\"]}' title=\"Contact\" type=\"button\"></button>\n",
       " <button class=\"action-favorite\" title=\"Set as Favorite\" type=\"button\"></button>\n",
       " </div>\n",
       " </div>\n",
       " <div class=\"infinite-item property-card clearfix property-card-CBR51392879\" data-brand-cd=\"CBR\" data-id=\"CBR51392879\" data-latitude=\"41.590004\" data-link=\"/property/817-blue-sage-way-rock-springs-wy-82901-CBR51392879\" data-listing-id=\"\" data-longitude=\"-109.247818\" data-mls=\"20202279\" data-source-id=\"495D60CC-F090-4278-BA03-37329E9A5FBC\" data-zip=\"82901\">\n",
       " <div class=\"property-card-clip\"> <div class=\"property-card-image\" style=\"background-image: url(https://cb.azureedge.net/1103i82/a1yw7hg4e6rgmf2td8m3g9vfy7i82);\">\n",
       " <div class=\"property-image-count\">\n",
       " <div class=\"image-count-left\">&lt;</div>\n",
       " <div class=\"image-count-current\">1</div>\n",
       " <div class=\"image-count-total\">14</div>\n",
       " <div class=\"image-count-right\">&gt;</div>\n",
       " </div>\n",
       " </div>\n",
       " </div>\n",
       " <div class=\"property-card-primary-info\">\n",
       " <div class=\"pdp-listing-type sale\">FOR SALE</div>\n",
       " <a class=\"listing-price\" href=\"/property/817-blue-sage-way-rock-springs-wy-82901-CBR51392879\">\n",
       "          \n",
       "             \n",
       "                $185,000\n",
       "             \n",
       "             \n",
       "          \n",
       "       </a>\n",
       " <div class=\"col-wrap-mid\">\n",
       " <div class=\"property-beds\">\n",
       " <strong>3</strong> beds\n",
       "          </div>\n",
       " <div class=\"property-baths\">\n",
       " <strong>2</strong> baths\n",
       "          </div>\n",
       " </div>\n",
       " <div class=\"col-wrap-last\">\n",
       " <div class=\"property-half-baths\">\n",
       " <strong>1</strong> half bath\n",
       "          </div>\n",
       " <div class=\"property-sqft\">\n",
       " <strong>1,778</strong> sq. ft\n",
       "          </div>\n",
       " </div>\n",
       " <div class=\"property-address-info\">\n",
       " <div class=\"property-address\" title=\"817 Blue Sage Way\">\n",
       "                817 Blue Sage Way\n",
       "             </div>\n",
       " <div class=\"property-city\">\n",
       "             Rock Springs WY 82901\n",
       "          </div>\n",
       " </div>\n",
       " <div class=\"property-card-attribution\">\n",
       "                Courtesy Of Coldwell Banker Sweetwater Realty\n",
       "             \n",
       "          </div>\n",
       " </div>\n",
       " <div class=\"property-actions\">\n",
       " <button class=\"action-favorite\" title=\"Set as Favorite\" type=\"button\"></button>\n",
       " </div>\n",
       " </div>\n",
       " <div class=\"infinite-item property-card clearfix property-card-CBR51198370\" data-brand-cd=\"CBR\" data-id=\"CBR51198370\" data-latitude=\"41.58332783\" data-link=\"/property/1129-hilltop-drive-rock-springs-wy-82901-CBR51198370\" data-listing-id=\"\" data-longitude=\"-109.232217\" data-mls=\"20196545\" data-source-id=\"864DC9E7-6247-4783-911D-24A0D9824CAF\" data-zip=\"82901\">\n",
       " <div class=\"property-card-clip\"> <div class=\"property-card-image\" style=\"background-image: url(https://cb.azureedge.net/1103i82/vdr85fzkafqhmka922jxtxa135i82);\">\n",
       " <div class=\"property-image-count\">\n",
       " <div class=\"image-count-left\">&lt;</div>\n",
       " <div class=\"image-count-current\">1</div>\n",
       " <div class=\"image-count-total\">154</div>\n",
       " <div class=\"image-count-right\">&gt;</div>\n",
       " </div>\n",
       " </div>\n",
       " </div>\n",
       " <div class=\"property-card-primary-info\">\n",
       " <div class=\"pdp-listing-type sale\">FOR SALE</div>\n",
       " <a class=\"listing-price\" href=\"/property/1129-hilltop-drive-rock-springs-wy-82901-CBR51198370\">\n",
       "          \n",
       "             \n",
       "                $990,999\n",
       "             \n",
       "             \n",
       "          \n",
       "       </a>\n",
       " <div class=\"col-wrap-mid\">\n",
       " <div class=\"property-beds\">\n",
       " <strong>4</strong> beds\n",
       "          </div>\n",
       " <div class=\"property-baths\">\n",
       " <strong>5</strong> baths\n",
       "          </div>\n",
       " </div>\n",
       " <div class=\"col-wrap-last\">\n",
       " <div class=\"property-half-baths\">\n",
       " <strong>2</strong> half baths\n",
       "          </div>\n",
       " <div class=\"property-sqft\">\n",
       " <strong>10,300</strong> sq. ft\n",
       "          </div>\n",
       " </div>\n",
       " <div class=\"property-address-info\">\n",
       " <div class=\"property-address\" title=\"1129 Hilltop Drive\">\n",
       "                1129 Hilltop Drive\n",
       "             </div>\n",
       " <div class=\"property-city\">\n",
       "             Rock Springs WY 82901\n",
       "          </div>\n",
       " </div>\n",
       " <div class=\"property-card-attribution\">\n",
       "                Courtesy Of Coldwell Banker Sweetwater Realty\n",
       "             \n",
       "          </div>\n",
       " </div>\n",
       " <div class=\"property-actions\">\n",
       " <button class=\"action-favorite\" title=\"Set as Favorite\" type=\"button\"></button>\n",
       " </div>\n",
       " </div>\n",
       " </div>]"
      ]
     },
     "metadata": {},
     "execution_count": 82
    }
   ],
   "source": [
    "all1\n"
   ]
  },
  {
   "cell_type": "code",
   "execution_count": 83,
   "metadata": {},
   "outputs": [
    {
     "output_type": "error",
     "ename": "AttributeError",
     "evalue": "'NoneType' object has no attribute 'text'",
     "traceback": [
      "\u001b[1;31m---------------------------------------------------------------------------\u001b[0m",
      "\u001b[1;31mAttributeError\u001b[0m                            Traceback (most recent call last)",
      "\u001b[1;32m<ipython-input-83-dfa47d2f52df>\u001b[0m in \u001b[0;36m<module>\u001b[1;34m\u001b[0m\n\u001b[0;32m      1\u001b[0m \u001b[1;32mfor\u001b[0m \u001b[0mitem\u001b[0m \u001b[1;32min\u001b[0m \u001b[0mall1\u001b[0m\u001b[1;33m:\u001b[0m\u001b[1;33m\u001b[0m\u001b[1;33m\u001b[0m\u001b[0m\n\u001b[1;32m----> 2\u001b[1;33m     \u001b[0mprint\u001b[0m\u001b[1;33m(\u001b[0m\u001b[0mitem\u001b[0m\u001b[1;33m.\u001b[0m\u001b[0mfind\u001b[0m\u001b[1;33m(\u001b[0m\u001b[1;34m\"a\"\u001b[0m\u001b[1;33m,\u001b[0m \u001b[1;33m{\u001b[0m\u001b[1;34m\"class\"\u001b[0m\u001b[1;33m:\u001b[0m\u001b[1;34m\"infinite-containers\"\u001b[0m\u001b[1;33m}\u001b[0m\u001b[1;33m)\u001b[0m\u001b[1;33m.\u001b[0m\u001b[0mtext\u001b[0m\u001b[1;33m.\u001b[0m\u001b[0mreplace\u001b[0m\u001b[1;33m(\u001b[0m\u001b[1;34m\"\\n\"\u001b[0m\u001b[1;33m,\u001b[0m \u001b[1;34m\"\"\u001b[0m\u001b[1;33m)\u001b[0m\u001b[1;33m.\u001b[0m\u001b[0mreplace\u001b[0m\u001b[1;33m(\u001b[0m\u001b[1;34m\" \"\u001b[0m\u001b[1;33m,\u001b[0m \u001b[1;34m\"\"\u001b[0m\u001b[1;33m)\u001b[0m\u001b[1;33m)\u001b[0m\u001b[1;33m\u001b[0m\u001b[1;33m\u001b[0m\u001b[0m\n\u001b[0m",
      "\u001b[1;31mAttributeError\u001b[0m: 'NoneType' object has no attribute 'text'"
     ]
    }
   ],
   "source": [
    "for item in all1:\n",
    "    print(item.find(\"a\", {\"class\":\"infinite-containers\"}).text.replace(\"\\n\", \"\").replace(\" \", \"\"))"
   ]
  },
  {
   "cell_type": "code",
   "execution_count": 108,
   "metadata": {},
   "outputs": [
    {
     "output_type": "execute_result",
     "data": {
      "text/plain": [
       "'<126>FORSALE$507,9006beds3baths1halfbath2431PortOrfordLaneRockSpringsWY82901CourtesyOfColdwellBankerSweetwaterRealty<119>FORSALE$210,0002beds2baths333IStreetRockSpringsWY82901CourtesyOfColdwellBankerSweetwaterRealty<19>FORSALE$135,0002beds1bath1211StStRockSpringsWY82901CourtesyOfColdwellBankerSweetwaterRealty<122>FORSALE$169,0003beds1bath1,410sq.ft930LincolnAveRockSpringsWY82901CourtesyOfColdwellBankerSweetwaterRealty<120>FORSALE$135,0002beds1bath821RugbyRockSpringsWY82901CourtesyOfColdwellBankerSweetwaterRealty<111>FORSALE$178,0003beds2baths1halfbath2421LittleMoonTrailRockSpringsWY82901CourtesyOfColdwellBankerSweetwaterRealty<114>FORSALE$114,9002beds1bath868sq.ft322AngleStreetRockSpringsWY82901CourtesyOfAAAProperties,LLC<114>FORSALE$185,0003beds2baths1halfbath1,778sq.ft817BlueSageWayRockSpringsWY82901CourtesyOfColdwellBankerSweetwaterRealty<1154>FORSALE$990,9994beds5baths2halfbaths10,300sq.ft1129HilltopDriveRockSpringsWY82901CourtesyOfColdwellBankerSweetwaterRealty'"
      ]
     },
     "metadata": {},
     "execution_count": 108
    }
   ],
   "source": [
    "all1.find_all(\"a\", {\"class\":\"listing-price\"})\n",
    "all1.text.replace(\"\\n\", \"\").replace(\" \", \"\")"
   ]
  },
  {
   "cell_type": "code",
   "execution_count": 22,
   "metadata": {},
   "outputs": [
    {
     "output_type": "execute_result",
     "data": {
      "text/plain": [
       "'$507,900'"
      ]
     },
     "metadata": {},
     "execution_count": 22
    }
   ],
   "source": [
    "import requests\n",
    "from bs4 import BeautifulSoup\n",
    "\n",
    "r= requests.get(\"https://www.century21.com/real-estate/rock-springs-wy/LCWYROCKSPRINGS/\")\n",
    "\n",
    "c=r.content\n",
    "\n",
    "soup=BeautifulSoup(c,\"html.parser\")\n",
    "\n",
    "all4=soup.find(\"div\", {\"class\":\"infinite-container\"})\n",
    "all4.find(\"a\", {\"class\":\"listing-price\"}).text.replace(\"\\n\",\"\").replace(\" \",\"\")"
   ]
  },
  {
   "cell_type": "code",
   "execution_count": 23,
   "metadata": {},
   "outputs": [
    {
     "output_type": "execute_result",
     "data": {
      "text/plain": [
       "bs4.element.Tag"
      ]
     },
     "metadata": {},
     "execution_count": 23
    }
   ],
   "source": [
    "type(all4)"
   ]
  },
  {
   "cell_type": "code",
   "execution_count": 33,
   "metadata": {},
   "outputs": [
    {
     "output_type": "execute_result",
     "data": {
      "text/plain": [
       "9"
      ]
     },
     "metadata": {},
     "execution_count": 33
    }
   ],
   "source": [
    "len(all4.find_all(\"a\"))"
   ]
  },
  {
   "cell_type": "code",
   "execution_count": 34,
   "metadata": {},
   "outputs": [
    {
     "output_type": "execute_result",
     "data": {
      "text/plain": [
       "[<a class=\"listing-price\" href=\"/property/2431-port-orford-lane-rock-springs-wy-82901-CBR51568476\">\n",
       "          \n",
       "             \n",
       "                $507,900\n",
       "             \n",
       "             \n",
       "          \n",
       "       </a>,\n",
       " <a class=\"listing-price\" href=\"/property/333-i-street-rock-springs-wy-82901-CBR51522052\">\n",
       "          \n",
       "             \n",
       "                $210,000\n",
       "             \n",
       "             \n",
       "          \n",
       "       </a>,\n",
       " <a class=\"listing-price\" href=\"/property/121-1st-st-rock-springs-wy-82901-CBR51525993\">\n",
       "          \n",
       "             \n",
       "                $135,000\n",
       "             \n",
       "             \n",
       "          \n",
       "       </a>,\n",
       " <a class=\"listing-price\" href=\"/property/930-lincoln-ave-rock-springs-wy-82901-CBR51518874\">\n",
       "          \n",
       "             \n",
       "                $169,000\n",
       "             \n",
       "             \n",
       "          \n",
       "       </a>,\n",
       " <a class=\"listing-price\" href=\"/property/821-rugby-rock-springs-wy-82901-CBR51460565\">\n",
       "          \n",
       "             \n",
       "                $135,000\n",
       "             \n",
       "             \n",
       "          \n",
       "       </a>,\n",
       " <a class=\"listing-price\" href=\"/property/2421-little-moon-trail-rock-springs-wy-82901-CBR51459683\">\n",
       "          \n",
       "             \n",
       "                $178,000\n",
       "             \n",
       "             \n",
       "          \n",
       "       </a>,\n",
       " <a class=\"listing-price\" href=\"/property/322-angle-street-rock-springs-wy-82901-REN012014894\">\n",
       "          \n",
       "             \n",
       "                $114,900\n",
       "             \n",
       "             \n",
       "          \n",
       "       </a>,\n",
       " <a class=\"listing-price\" href=\"/property/817-blue-sage-way-rock-springs-wy-82901-CBR51392879\">\n",
       "          \n",
       "             \n",
       "                $185,000\n",
       "             \n",
       "             \n",
       "          \n",
       "       </a>,\n",
       " <a class=\"listing-price\" href=\"/property/1129-hilltop-drive-rock-springs-wy-82901-CBR51198370\">\n",
       "          \n",
       "             \n",
       "                $990,999\n",
       "             \n",
       "             \n",
       "          \n",
       "       </a>]"
      ]
     },
     "metadata": {},
     "execution_count": 34
    }
   ],
   "source": [
    "all4.find_all(\"a\")"
   ]
  },
  {
   "cell_type": "code",
   "execution_count": 35,
   "metadata": {},
   "outputs": [
    {
     "output_type": "execute_result",
     "data": {
      "text/plain": [
       "19"
      ]
     },
     "metadata": {},
     "execution_count": 35
    }
   ],
   "source": [
    "len(all4)"
   ]
  },
  {
   "cell_type": "code",
   "execution_count": 41,
   "metadata": {},
   "outputs": [
    {
     "output_type": "execute_result",
     "data": {
      "text/plain": [
       "<a class=\"listing-price\" href=\"/property/2431-port-orford-lane-rock-springs-wy-82901-CBR51568476\">\n",
       "         \n",
       "            \n",
       "               $507,900\n",
       "            \n",
       "            \n",
       "         \n",
       "      </a>"
      ]
     },
     "metadata": {},
     "execution_count": 41
    }
   ],
   "source": [
    "all4.find_all(\"a\")[0]"
   ]
  },
  {
   "cell_type": "code",
   "execution_count": 45,
   "metadata": {},
   "outputs": [
    {
     "output_type": "execute_result",
     "data": {
      "text/plain": [
       "'$507,900'"
      ]
     },
     "metadata": {},
     "execution_count": 45
    }
   ],
   "source": [
    "all4.find_all(\"a\")[0].text.replace(\"\\n\",\"\").replace(\" \",\"\")"
   ]
  },
  {
   "cell_type": "code",
   "execution_count": 50,
   "metadata": {},
   "outputs": [
    {
     "output_type": "error",
     "ename": "AttributeError",
     "evalue": "'int' object has no attribute 'text'",
     "traceback": [
      "\u001b[1;31m---------------------------------------------------------------------------\u001b[0m",
      "\u001b[1;31mAttributeError\u001b[0m                            Traceback (most recent call last)",
      "\u001b[1;32m<ipython-input-50-0190dce44cf6>\u001b[0m in \u001b[0;36m<module>\u001b[1;34m\u001b[0m\n\u001b[0;32m      1\u001b[0m \u001b[1;32mfor\u001b[0m \u001b[0mitem\u001b[0m \u001b[1;32min\u001b[0m \u001b[0mall4\u001b[0m\u001b[1;33m:\u001b[0m\u001b[1;33m\u001b[0m\u001b[1;33m\u001b[0m\u001b[0m\n\u001b[1;32m----> 2\u001b[1;33m     \u001b[0mprint\u001b[0m\u001b[1;33m(\u001b[0m\u001b[0mitem\u001b[0m\u001b[1;33m.\u001b[0m\u001b[0mfind\u001b[0m\u001b[1;33m(\u001b[0m\u001b[1;34m\"a\"\u001b[0m\u001b[1;33m)\u001b[0m\u001b[1;33m.\u001b[0m\u001b[0mtext\u001b[0m\u001b[1;33m.\u001b[0m\u001b[0mreplace\u001b[0m\u001b[1;33m(\u001b[0m\u001b[1;34m\"\\n\"\u001b[0m\u001b[1;33m,\u001b[0m\u001b[1;34m\"\"\u001b[0m\u001b[1;33m)\u001b[0m\u001b[1;33m.\u001b[0m\u001b[0mreplace\u001b[0m\u001b[1;33m(\u001b[0m\u001b[1;34m\" \"\u001b[0m\u001b[1;33m,\u001b[0m\u001b[1;34m\"\"\u001b[0m\u001b[1;33m)\u001b[0m\u001b[1;33m)\u001b[0m\u001b[1;33m\u001b[0m\u001b[1;33m\u001b[0m\u001b[0m\n\u001b[0m\u001b[0;32m      3\u001b[0m \u001b[1;33m\u001b[0m\u001b[0m\n",
      "\u001b[1;31mAttributeError\u001b[0m: 'int' object has no attribute 'text'"
     ]
    }
   ],
   "source": [
    "for item in all4:\n",
    "    print(item.find(\"a\").text.replace(\"\\n\",\"\").replace(\" \",\"\"))\n",
    "    "
   ]
  },
  {
   "cell_type": "code",
   "execution_count": 53,
   "metadata": {},
   "outputs": [
    {
     "output_type": "stream",
     "name": "stdout",
     "text": [
      "$507,900\n$210,000\n$135,000\n$169,000\n$135,000\n$178,000\n$114,900\n$185,000\n$990,999\n"
     ]
    }
   ],
   "source": [
    "# for item in range(len(all4.find_all(\"a\"))):\n",
    "for item in range(0,9):\n",
    "    print(all4.find_all(\"a\")[item].text.replace(\"\\n\",\"\").replace(\" \",\"\"))"
   ]
  },
  {
   "cell_type": "code",
   "execution_count": 74,
   "metadata": {},
   "outputs": [],
   "source": [
    "import requests\n",
    "from bs4 import BeautifulSoup\n",
    "\n",
    "r= requests.get(\"https://www.century21.com/real-estate/rock-springs-wy/LCWYROCKSPRINGS/\")\n",
    "c=r.content\n",
    "\n",
    "soup=BeautifulSoup(c,\"html.parser\")\n",
    "\n",
    "all5=soup.find_all(\"div\", {\"class\":\"property-address\"})\n",
    "# all5.find(\"a\", {\"class\":\"listing-price\"}).text.replace(\"\\n\",\"\").replace(\" \",\"\")"
   ]
  },
  {
   "cell_type": "code",
   "execution_count": 96,
   "metadata": {},
   "outputs": [
    {
     "output_type": "stream",
     "name": "stdout",
     "text": [
      "2431PortOrfordLane\n[<div class=\"property-address\" title=\"2431 Port Orford Lane\">\n               2431 Port Orford Lane\n            </div>, <div class=\"property-address\" title=\"333 I Street\">\n               333 I Street\n            </div>, <div class=\"property-address\" title=\"121 1St St\">\n               121 1St St\n            </div>, <div class=\"property-address\" title=\"930 Lincoln Ave\">\n               930 Lincoln Ave\n            </div>, <div class=\"property-address\" title=\"821 Rugby\">\n               821 Rugby\n            </div>, <div class=\"property-address\" title=\"2421 Little Moon Trail\">\n               2421 Little Moon Trail\n            </div>, <div class=\"property-address\" title=\"322 Angle Street\">\n               322 Angle Street\n            </div>, <div class=\"property-address\" title=\"817 Blue Sage Way\">\n               817 Blue Sage Way\n            </div>, <div class=\"property-address\" title=\"1129 Hilltop Drive\">\n               1129 Hilltop Drive\n            </div>]\n"
     ]
    }
   ],
   "source": [
    "print(all5[0].text.replace(\"\\n\",\"\").replace(\" \",\"\"))\n",
    "len(all5)\n",
    "print(all5)"
   ]
  },
  {
   "cell_type": "code",
   "execution_count": 103,
   "metadata": {},
   "outputs": [
    {
     "output_type": "stream",
     "name": "stdout",
     "text": [
      "2431PortOrfordLane\n333IStreet\n1211StSt\n930LincolnAve\n821Rugby\n2421LittleMoonTrail\n322AngleStreet\n817BlueSageWay\n1129HilltopDrive\n"
     ]
    }
   ],
   "source": [
    "# for value in range(0,9):\n",
    "for value in range(len(all5)):\n",
    "    print(all5[value].text.replace(\"\\n\",\"\").replace(\" \",\"\"))\n",
    "    # print(all5)"
   ]
  },
  {
   "cell_type": "code",
   "execution_count": 115,
   "metadata": {},
   "outputs": [],
   "source": [
    "#import requests\n",
    "from bs4 import BeautifulSoup\n",
    "\n",
    "r= requests.get(\"https://www.century21.com/real-estate/rock-springs-wy/LCWYROCKSPRINGS/\")\n",
    "c=r.content\n",
    "\n",
    "soup=BeautifulSoup(c,\"html.parser\")\n",
    "\n",
    "all6=soup.find_all(\"div\", {\"class\":\"property-beds\"})\n",
    "all7=soup.find_all(\"div\", {\"class\":\"property-baths\"})"
   ]
  },
  {
   "cell_type": "code",
   "execution_count": 116,
   "metadata": {},
   "outputs": [
    {
     "output_type": "stream",
     "name": "stdout",
     "text": [
      "[<div class=\"property-beds\">\n<strong>6</strong> beds\n         </div>, <div class=\"property-beds\">\n<strong>2</strong> beds\n         </div>, <div class=\"property-beds\">\n<strong>2</strong> beds\n         </div>, <div class=\"property-beds\">\n<strong>3</strong> beds\n         </div>, <div class=\"property-beds\">\n<strong>2</strong> beds\n         </div>, <div class=\"property-beds\">\n<strong>3</strong> beds\n         </div>, <div class=\"property-beds\">\n<strong>2</strong> beds\n         </div>, <div class=\"property-beds\">\n<strong>3</strong> beds\n         </div>, <div class=\"property-beds\">\n<strong>4</strong> beds\n         </div>]\n[<div class=\"property-baths\">\n<strong>3</strong> baths\n         </div>, <div class=\"property-baths\">\n<strong>2</strong> baths\n         </div>, <div class=\"property-baths\">\n<strong>1</strong> bath\n         </div>, <div class=\"property-baths\">\n<strong>1</strong> bath\n         </div>, <div class=\"property-baths\">\n<strong>1</strong> bath\n         </div>, <div class=\"property-baths\">\n<strong>2</strong> baths\n         </div>, <div class=\"property-baths\">\n<strong>1</strong> bath\n         </div>, <div class=\"property-baths\">\n<strong>2</strong> baths\n         </div>, <div class=\"property-baths\">\n<strong>5</strong> baths\n         </div>]\n"
     ]
    },
    {
     "output_type": "execute_result",
     "data": {
      "text/plain": [
       "9"
      ]
     },
     "metadata": {},
     "execution_count": 116
    }
   ],
   "source": [
    "print(all6)\n",
    "len(all6)\n",
    "\n",
    "print(all7)\n",
    "len(all7)"
   ]
  },
  {
   "cell_type": "code",
   "execution_count": 114,
   "metadata": {},
   "outputs": [
    {
     "output_type": "stream",
     "name": "stdout",
     "text": [
      "6beds\n2beds\n2beds\n3beds\n2beds\n3beds\n2beds\n3beds\n4beds\n"
     ]
    }
   ],
   "source": [
    "for value in range(len(all6)):\n",
    "    print(all6[value].text.replace(\"\\n\",\"\").replace(\" \",\"\"))\n",
    "    print(all7[value].text.replace(\"\\n\",\"\").replace(\" \",\"\"))"
   ]
  },
  {
   "cell_type": "code",
   "execution_count": null,
   "metadata": {},
   "outputs": [],
   "source": []
  }
 ]
}