{
 "metadata": {
  "language_info": {
   "codemirror_mode": {
    "name": "ipython",
    "version": 3
   },
   "file_extension": ".py",
   "mimetype": "text/x-python",
   "name": "python",
   "nbconvert_exporter": "python",
   "pygments_lexer": "ipython3",
   "version": "3.8.5-final"
  },
  "orig_nbformat": 2,
  "kernelspec": {
   "name": "Python 3.8.5 32-bit",
   "display_name": "Python 3.8.5 32-bit",
   "metadata": {
    "interpreter": {
     "hash": "60feb0a2e7ce6d608f8a180c8596c345bf56b4dd3e03927ddd7c501ea21fdf27"
    }
   }
  }
 },
 "nbformat": 4,
 "nbformat_minor": 2,
 "cells": [
  {
   "cell_type": "code",
   "execution_count": 1,
   "metadata": {},
   "outputs": [],
   "source": [
    "import requests\n",
    "from bs4 import BeautifulSoup"
   ]
  },
  {
   "cell_type": "code",
   "execution_count": 2,
   "metadata": {},
   "outputs": [],
   "source": [
    "r=requests.get(\"https://www.century21.com/real-estate/san-francisco-ca/LCCASANFRANCISCO/\")\n",
    "c=r.content\n"
   ]
  },
  {
   "cell_type": "code",
   "execution_count": 6,
   "metadata": {
    "tags": []
   },
   "outputs": [],
   "source": [
    "soup=BeautifulSoup(c,\"html.parser\")\n",
    "# print(soup.prettify())"
   ]
  },
  {
   "cell_type": "code",
   "execution_count": 13,
   "metadata": {},
   "outputs": [],
   "source": [
    "all=soup.find_all(\"div\", {\"class\":\"logo\"})  "
   ]
  },
  {
   "cell_type": "code",
   "execution_count": 14,
   "metadata": {},
   "outputs": [
    {
     "output_type": "execute_result",
     "data": {
      "text/plain": [
       "[<div class=\"logo\"><a data-usagetrack-click=\"Logo\" href=\"/\">Home</a></div>]"
      ]
     },
     "metadata": {},
     "execution_count": 14
    }
   ],
   "source": [
    "all"
   ]
  },
  {
   "cell_type": "code",
   "execution_count": 15,
   "metadata": {},
   "outputs": [],
   "source": [
    "all=soup.find_all(\"div\", {\"class\":\"filters-container\"})"
   ]
  },
  {
   "cell_type": "code",
   "execution_count": 16,
   "metadata": {},
   "outputs": [
    {
     "output_type": "execute_result",
     "data": {
      "text/plain": [
       "[]"
      ]
     },
     "metadata": {},
     "execution_count": 16
    }
   ],
   "source": [
    "all"
   ]
  },
  {
   "cell_type": "code",
   "execution_count": 17,
   "metadata": {},
   "outputs": [],
   "source": [
    "all=soup.find_all(\"div\", {\"class\":\"full-width-container\"})  "
   ]
  },
  {
   "cell_type": "code",
   "execution_count": 18,
   "metadata": {},
   "outputs": [
    {
     "output_type": "execute_result",
     "data": {
      "text/plain": [
       "[]"
      ]
     },
     "metadata": {},
     "execution_count": 18
    }
   ],
   "source": [
    "all"
   ]
  },
  {
   "cell_type": "code",
   "execution_count": 19,
   "metadata": {},
   "outputs": [],
   "source": [
    "all=soup.find_all(\"div\", {\"class\":\"property-actions\"}) "
   ]
  },
  {
   "cell_type": "code",
   "execution_count": 20,
   "metadata": {},
   "outputs": [
    {
     "output_type": "execute_result",
     "data": {
      "text/plain": [
       "[<div class=\"property-actions\">\n",
       " <button class=\"action-contact\" data-usagetrack='{\"data\": [\"Hybrid Mapping\", \"Property Card\", \"Contact\"]}' title=\"Contact\" type=\"button\"></button>\n",
       " <button class=\"action-favorite\" title=\"Set as Favorite\" type=\"button\"></button>\n",
       " </div>,\n",
       " <div class=\"property-actions\">\n",
       " <button class=\"action-contact\" data-usagetrack='{\"data\": [\"Hybrid Mapping\", \"Property Card\", \"Contact\"]}' title=\"Contact\" type=\"button\"></button>\n",
       " <button class=\"action-favorite\" title=\"Set as Favorite\" type=\"button\"></button>\n",
       " </div>,\n",
       " <div class=\"property-actions\">\n",
       " <button class=\"action-contact\" data-usagetrack='{\"data\": [\"Hybrid Mapping\", \"Property Card\", \"Contact\"]}' title=\"Contact\" type=\"button\"></button>\n",
       " <button class=\"action-favorite\" title=\"Set as Favorite\" type=\"button\"></button>\n",
       " </div>,\n",
       " <div class=\"property-actions\">\n",
       " <button class=\"action-contact\" data-usagetrack='{\"data\": [\"Hybrid Mapping\", \"Property Card\", \"Contact\"]}' title=\"Contact\" type=\"button\"></button>\n",
       " <button class=\"action-favorite\" title=\"Set as Favorite\" type=\"button\"></button>\n",
       " </div>,\n",
       " <div class=\"property-actions\">\n",
       " <button class=\"action-contact\" data-usagetrack='{\"data\": [\"Hybrid Mapping\", \"Property Card\", \"Contact\"]}' title=\"Contact\" type=\"button\"></button>\n",
       " <button class=\"action-favorite\" title=\"Set as Favorite\" type=\"button\"></button>\n",
       " </div>,\n",
       " <div class=\"property-actions\">\n",
       " <button class=\"action-contact\" data-usagetrack='{\"data\": [\"Hybrid Mapping\", \"Property Card\", \"Contact\"]}' title=\"Contact\" type=\"button\"></button>\n",
       " <button class=\"action-favorite\" title=\"Set as Favorite\" type=\"button\"></button>\n",
       " </div>,\n",
       " <div class=\"property-actions\">\n",
       " <button class=\"action-contact\" data-usagetrack='{\"data\": [\"Hybrid Mapping\", \"Property Card\", \"Contact\"]}' title=\"Contact\" type=\"button\"></button>\n",
       " <button class=\"action-favorite\" title=\"Set as Favorite\" type=\"button\"></button>\n",
       " </div>,\n",
       " <div class=\"property-actions\">\n",
       " <button class=\"action-contact\" data-usagetrack='{\"data\": [\"Hybrid Mapping\", \"Property Card\", \"Contact\"]}' title=\"Contact\" type=\"button\"></button>\n",
       " <button class=\"action-favorite\" title=\"Set as Favorite\" type=\"button\"></button>\n",
       " </div>,\n",
       " <div class=\"property-actions\">\n",
       " <button class=\"action-contact\" data-usagetrack='{\"data\": [\"Hybrid Mapping\", \"Property Card\", \"Contact\"]}' title=\"Contact\" type=\"button\"></button>\n",
       " <button class=\"action-favorite\" title=\"Set as Favorite\" type=\"button\"></button>\n",
       " </div>,\n",
       " <div class=\"property-actions\">\n",
       " <button class=\"action-contact\" data-usagetrack='{\"data\": [\"Hybrid Mapping\", \"Property Card\", \"Contact\"]}' title=\"Contact\" type=\"button\"></button>\n",
       " <button class=\"action-favorite\" title=\"Set as Favorite\" type=\"button\"></button>\n",
       " </div>,\n",
       " <div class=\"property-actions\">\n",
       " <button class=\"action-contact\" data-usagetrack='{\"data\": [\"Hybrid Mapping\", \"Property Card\", \"Contact\"]}' title=\"Contact\" type=\"button\"></button>\n",
       " <button class=\"action-favorite\" title=\"Set as Favorite\" type=\"button\"></button>\n",
       " </div>,\n",
       " <div class=\"property-actions\">\n",
       " <button class=\"action-contact\" data-usagetrack='{\"data\": [\"Hybrid Mapping\", \"Property Card\", \"Contact\"]}' title=\"Contact\" type=\"button\"></button>\n",
       " <button class=\"action-favorite\" title=\"Set as Favorite\" type=\"button\"></button>\n",
       " </div>,\n",
       " <div class=\"property-actions\">\n",
       " <button class=\"action-contact\" data-usagetrack='{\"data\": [\"Hybrid Mapping\", \"Property Card\", \"Contact\"]}' title=\"Contact\" type=\"button\"></button>\n",
       " <button class=\"action-favorite\" title=\"Set as Favorite\" type=\"button\"></button>\n",
       " </div>,\n",
       " <div class=\"property-actions\">\n",
       " <button class=\"action-contact\" data-usagetrack='{\"data\": [\"Hybrid Mapping\", \"Property Card\", \"Contact\"]}' title=\"Contact\" type=\"button\"></button>\n",
       " <button class=\"action-favorite\" title=\"Set as Favorite\" type=\"button\"></button>\n",
       " </div>,\n",
       " <div class=\"property-actions\">\n",
       " <button class=\"action-contact\" data-usagetrack='{\"data\": [\"Hybrid Mapping\", \"Property Card\", \"Contact\"]}' title=\"Contact\" type=\"button\"></button>\n",
       " <button class=\"action-favorite\" title=\"Set as Favorite\" type=\"button\"></button>\n",
       " </div>,\n",
       " <div class=\"property-actions\">\n",
       " <button class=\"action-contact\" data-usagetrack='{\"data\": [\"Hybrid Mapping\", \"Property Card\", \"Contact\"]}' title=\"Contact\" type=\"button\"></button>\n",
       " <button class=\"action-favorite\" title=\"Set as Favorite\" type=\"button\"></button>\n",
       " </div>,\n",
       " <div class=\"property-actions\">\n",
       " <button class=\"action-contact\" data-usagetrack='{\"data\": [\"Hybrid Mapping\", \"Property Card\", \"Contact\"]}' title=\"Contact\" type=\"button\"></button>\n",
       " <button class=\"action-favorite\" title=\"Set as Favorite\" type=\"button\"></button>\n",
       " </div>,\n",
       " <div class=\"property-actions\">\n",
       " <button class=\"action-contact\" data-usagetrack='{\"data\": [\"Hybrid Mapping\", \"Property Card\", \"Contact\"]}' title=\"Contact\" type=\"button\"></button>\n",
       " <button class=\"action-favorite\" title=\"Set as Favorite\" type=\"button\"></button>\n",
       " </div>,\n",
       " <div class=\"property-actions\">\n",
       " <button class=\"action-contact\" data-usagetrack='{\"data\": [\"Hybrid Mapping\", \"Property Card\", \"Contact\"]}' title=\"Contact\" type=\"button\"></button>\n",
       " <button class=\"action-favorite\" title=\"Set as Favorite\" type=\"button\"></button>\n",
       " </div>,\n",
       " <div class=\"property-actions\">\n",
       " <button class=\"action-contact\" data-usagetrack='{\"data\": [\"Hybrid Mapping\", \"Property Card\", \"Contact\"]}' title=\"Contact\" type=\"button\"></button>\n",
       " <button class=\"action-favorite\" title=\"Set as Favorite\" type=\"button\"></button>\n",
       " </div>]"
      ]
     },
     "metadata": {},
     "execution_count": 20
    }
   ],
   "source": [
    "all"
   ]
  },
  {
   "cell_type": "code",
   "execution_count": 23,
   "metadata": {},
   "outputs": [
    {
     "output_type": "execute_result",
     "data": {
      "text/plain": [
       "bs4.element.ResultSet"
      ]
     },
     "metadata": {},
     "execution_count": 23
    }
   ],
   "source": [
    "type(all)"
   ]
  },
  {
   "cell_type": "code",
   "execution_count": 24,
   "metadata": {},
   "outputs": [
    {
     "output_type": "execute_result",
     "data": {
      "text/plain": [
       "20"
      ]
     },
     "metadata": {},
     "execution_count": 24
    }
   ],
   "source": [
    "len(all)"
   ]
  },
  {
   "cell_type": "code",
   "execution_count": 25,
   "metadata": {},
   "outputs": [
    {
     "output_type": "execute_result",
     "data": {
      "text/plain": [
       "<div class=\"property-actions\">\n",
       "<button class=\"action-contact\" data-usagetrack='{\"data\": [\"Hybrid Mapping\", \"Property Card\", \"Contact\"]}' title=\"Contact\" type=\"button\"></button>\n",
       "<button class=\"action-favorite\" title=\"Set as Favorite\" type=\"button\"></button>\n",
       "</div>"
      ]
     },
     "metadata": {},
     "execution_count": 25
    }
   ],
   "source": [
    "all[0]"
   ]
  },
  {
   "cell_type": "code",
   "execution_count": null,
   "metadata": {},
   "outputs": [],
   "source": []
  }
 ]
}